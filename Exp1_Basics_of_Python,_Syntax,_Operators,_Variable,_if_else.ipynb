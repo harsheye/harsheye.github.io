{
  "nbformat": 4,
  "nbformat_minor": 0,
  "metadata": {
    "colab": {
      "provenance": [],
      "toc_visible": true,
      "include_colab_link": true
    },
    "kernelspec": {
      "display_name": "Python 3",
      "language": "python",
      "name": "python3"
    },
    "language_info": {
      "codemirror_mode": {
        "name": "ipython",
        "version": 3
      },
      "file_extension": ".py",
      "mimetype": "text/x-python",
      "name": "python",
      "nbconvert_exporter": "python",
      "pygments_lexer": "ipython3",
      "version": "3.7.7"
    }
  },
  "cells": [
    {
      "cell_type": "markdown",
      "metadata": {
        "id": "view-in-github",
        "colab_type": "text"
      },
      "source": [
        "<a href=\"https://colab.research.google.com/github/harsheye/harsheye.github.io/blob/main/Exp1_Basics_of_Python%2C_Syntax%2C_Operators%2C_Variable%2C_if_else.ipynb\" target=\"_parent\"><img src=\"https://colab.research.google.com/assets/colab-badge.svg\" alt=\"Open In Colab\"/></a>"
      ]
    },
    {
      "cell_type": "markdown",
      "source": [
        "## Welcome to Python\n",
        "\n"
      ],
      "metadata": {
        "id": "poYB7rHitVWF"
      }
    },
    {
      "cell_type": "code",
      "source": [],
      "metadata": {
        "id": "1B01fBH3SKwT"
      },
      "execution_count": null,
      "outputs": []
    },
    {
      "cell_type": "markdown",
      "source": [
        "# **What is Python**\n",
        "\n",
        "Python is a dynamically typed, General Purpose Programming Language that supports an object-oriented programming approach as well as a functional programming approach.\n",
        "\n",
        "Python is also an interpreted and high-level programming language.\n",
        "\n",
        "It was created by Guido Van Rossum in 1989.\n"
      ],
      "metadata": {
        "id": "rD_pge9kU7r8"
      }
    },
    {
      "cell_type": "code",
      "source": [],
      "metadata": {
        "id": "irjZZvlSTOou"
      },
      "execution_count": null,
      "outputs": []
    },
    {
      "cell_type": "code",
      "source": [],
      "metadata": {
        "id": "cRnGINr7TO6e"
      },
      "execution_count": null,
      "outputs": []
    },
    {
      "cell_type": "markdown",
      "metadata": {
        "id": "eaNq4Gmi9Qic"
      },
      "source": [
        "## Basics Of Python - Part 1 (Syntax, Operators, Variable, if-else)\n",
        "#### Topics\n",
        "1. Python basics syntax\n",
        "2. Variable Declaration\n",
        "3. Arithmetic Operators (+, -, *, /, //, %, **)\n",
        "4. Bitwise Operators (&, |, ^, >>, <<, ~)\n",
        "5. Comparison Operator (==, !=, >, <, >=, <=)\n",
        "6. Assignment Operators (=, +=, -=, /=, //= etc.)\n",
        "7. Logical Operators (and, or, not)\n",
        "8. Identity Operators (is, is not)\n",
        "9. Membership Operators (in, not in)\n",
        "10. if-else\n",
        "\n",
        "##### Note:\n",
        "1. First Clean the Evironment (Go to \"Kernel\" Menu --> \"Restart & Clean Output\"\n",
        "2. To execute the code --> Click on a cell and press cntrl + enter key"
      ]
    },
    {
      "cell_type": "markdown",
      "source": [
        "In simplest words, **Syntax** is the arrangement of words and phrases to create well-formed sentences in a language.\n",
        "\n",
        "In the case of a computer language, the syntax is the structural arrangement of comments, variables, numbers, operators, statements, loops, functions, classes, objects, etc. which helps us understand the meaning or semantics of a computer language.\n",
        "\n",
        "\n",
        "\n",
        "For E.g. a ‘comment’ is used to explain the functioning of a block of code. It starts with a ‘#’.\n",
        "\n",
        "\n",
        "\n",
        "For E.g. a block of code is identified by an ‘indentation’. Have a look at the following code, here print(i) is said to be indented with respect to the link above it.\n",
        "\n",
        "In simple words, indentation is the addition of spaces before the line \"print(i)\"\n"
      ],
      "metadata": {
        "id": "LhI1_faEVyYe"
      }
    },
    {
      "cell_type": "code",
      "source": [
        "i know myself i am a very ok ok for i in range(5):\n",
        "  print(i)\n"
      ],
      "metadata": {
        "id": "GTDWaOMrWD1O",
        "colab": {
          "base_uri": "https://localhost:8080/"
        },
        "outputId": "54340d13-0814-42f2-f113-7c3b4c6f20da"
      },
      "execution_count": null,
      "outputs": [
        {
          "output_type": "stream",
          "name": "stdout",
          "text": [
            "0\n",
            "1\n",
            "2\n",
            "3\n",
            "4\n"
          ]
        }
      ]
    },
    {
      "cell_type": "markdown",
      "source": [
        "# **Python Comments**\n",
        "\n",
        "A comment is a part of the coding file that the programmer does not want to execute, rather the programmer uses it to either explain a block of code or to avoid the execution of a specific part of code while testing.\n",
        "\n",
        "\n",
        "\n",
        "**Single-Line Comments:**\n",
        "To write a comment just add a ‘#’ at the start of the line."
      ],
      "metadata": {
        "id": "b5TxbjO9WVHh"
      }
    },
    {
      "cell_type": "code",
      "source": [
        "#This is a 'Single-Line Comment'\n",
        "print(\"This is a print statement.\")"
      ],
      "metadata": {
        "id": "kzNEHLWPWi7n"
      },
      "execution_count": null,
      "outputs": []
    },
    {
      "cell_type": "code",
      "source": [
        "print(\"Hello World !!!\") #Printing Hello World"
      ],
      "metadata": {
        "id": "AQF5sxoFWk31"
      },
      "execution_count": null,
      "outputs": []
    },
    {
      "cell_type": "code",
      "source": [
        "print(\"Python Program\")\n",
        "#print(\"Python Program\")"
      ],
      "metadata": {
        "id": "OCbQRp-hWoKg"
      },
      "execution_count": null,
      "outputs": []
    },
    {
      "cell_type": "markdown",
      "source": [
        "**Multi-Line Comments:**\n",
        "To write multi-line comments you can use ‘#’ at each line or you can use the multiline string."
      ],
      "metadata": {
        "id": "8WILcw92W6pf"
      }
    },
    {
      "cell_type": "code",
      "source": [
        "#It will execute a block of code if a specified condition is true.\n",
        "#If the codition is false than it will execute another block of code.\n",
        "p = 7\n",
        "if (p > 5):\n",
        "    print(\"p is greater than 5.\")\n",
        "else:\n",
        "    print(\"p is not greater than 5.\")"
      ],
      "metadata": {
        "id": "PNsx9x4XXE6u",
        "colab": {
          "base_uri": "https://localhost:8080/"
        },
        "outputId": "b5809c64-669b-4699-ec33-2ad53f062d7f"
      },
      "execution_count": null,
      "outputs": [
        {
          "output_type": "stream",
          "name": "stdout",
          "text": [
            "p is greater than 5.\n"
          ]
        }
      ]
    },
    {
      "cell_type": "markdown",
      "source": [
        "The use of multiline string."
      ],
      "metadata": {
        "id": "QVg4ozC7XLHQ"
      }
    },
    {
      "cell_type": "code",
      "source": [
        "\"\"\"This is an if-else statement.\n",
        "It will execute a block of code if a specified condition is true.\n",
        "If the condition is false then it will execute another block of code.\"\"\"\n",
        "p = 7\n",
        "if (p > 5):\n",
        "    print(\"p is greater than 5.\")\n",
        "else:\n",
        "    print(\"p is not greater than 5.\")"
      ],
      "metadata": {
        "id": "JCjDLpmqXG_Q",
        "colab": {
          "base_uri": "https://localhost:8080/"
        },
        "outputId": "ad5cbca6-8be5-4de3-df97-7655abea133d"
      },
      "execution_count": null,
      "outputs": [
        {
          "output_type": "stream",
          "name": "stdout",
          "text": [
            "p is greater than 5.\n"
          ]
        }
      ]
    },
    {
      "cell_type": "markdown",
      "source": [],
      "metadata": {
        "id": "flU_RSR6XBj9"
      }
    },
    {
      "cell_type": "markdown",
      "metadata": {
        "id": "y3VrvYW2-6Ka"
      },
      "source": [
        "# 1: Lets start Python !!"
      ]
    },
    {
      "cell_type": "markdown",
      "metadata": {
        "id": "KWBn1R5W0AXS"
      },
      "source": [
        "### 1.1: Hello World !!"
      ]
    },
    {
      "cell_type": "code",
      "metadata": {
        "id": "eikxCFcN-7AR",
        "colab": {
          "base_uri": "https://localhost:8080/"
        },
        "outputId": "6cb700f0-4cd6-4c50-8277-f0c5aed1355c"
      },
      "source": [
        "#------------------------------------------------------------------------\n",
        "# 1.1: Hello World !!\n",
        "#------------------------------------------------------------------------\n",
        "print (\"Hello World !!\")\n"
      ],
      "execution_count": null,
      "outputs": [
        {
          "output_type": "stream",
          "name": "stdout",
          "text": [
            "Hello World !!\n"
          ]
        }
      ]
    },
    {
      "cell_type": "markdown",
      "metadata": {
        "id": "xfdO0Uz2_Q75"
      },
      "source": [
        "#### Assignment 1.1: WAP to print your name two times\n"
      ]
    },
    {
      "cell_type": "markdown",
      "source": [
        "# **Python Variables**\n",
        "\n",
        "Variables are containers that store information that can be manipulated and referenced later by the programmer within the code.\n",
        "\n",
        "\n",
        "```\n",
        "# This is formatted as code\n",
        "```\n",
        "\n",
        "\n",
        "\n",
        "In python, the programmer does not need to declare the variable type explicitly, we just need to assign the value to the variable."
      ],
      "metadata": {
        "id": "Vnv8FRxjXiEH"
      }
    },
    {
      "cell_type": "markdown",
      "source": [
        "It is always advisable to keep variable names descriptive and to follow a set of conventions while creating variables:\n",
        "\n",
        "Variable name can only contain alpha-numeric\n",
        "characters and underscores (A-z, 0-9, and _ )\n",
        "\n",
        "Variable name must start with a letter or the underscore character.\n",
        "\n",
        "Variables are case sensitive.\n",
        "\n",
        "Variable name cannot start with a number."
      ],
      "metadata": {
        "id": "Fk9eZ2mTXzza"
      }
    },
    {
      "cell_type": "markdown",
      "metadata": {
        "id": "C5AE9hUVAYR6"
      },
      "source": [
        "### 1.2: Variable declaration and print it"
      ]
    },
    {
      "cell_type": "code",
      "metadata": {
        "id": "F12bV_qc0AXq",
        "colab": {
          "base_uri": "https://localhost:8080/"
        },
        "outputId": "50bbe898-da76-4786-d6de-49bad04175d3"
      },
      "source": [
        "a = 300        # Assingment; No output\n",
        "a              # Print the value of a"
      ],
      "execution_count": null,
      "outputs": [
        {
          "output_type": "execute_result",
          "data": {
            "text/plain": [
              "300"
            ]
          },
          "metadata": {},
          "execution_count": 9
        }
      ]
    },
    {
      "cell_type": "code",
      "metadata": {
        "id": "Utwv7QkJ0AXy",
        "colab": {
          "base_uri": "https://localhost:8080/",
          "height": 35
        },
        "outputId": "1b3eb603-08ce-41f4-99e9-c4576ca55e74"
      },
      "source": [
        "b = \"Shyam\"    # Assingment; No output\n",
        "b              # Print the value of b"
      ],
      "execution_count": null,
      "outputs": [
        {
          "output_type": "execute_result",
          "data": {
            "text/plain": [
              "'Shyam'"
            ],
            "application/vnd.google.colaboratory.intrinsic+json": {
              "type": "string"
            }
          },
          "metadata": {},
          "execution_count": 3
        }
      ]
    },
    {
      "cell_type": "code",
      "metadata": {
        "id": "B2aS1dCt0AX7",
        "colab": {
          "base_uri": "https://localhost:8080/",
          "height": 35
        },
        "outputId": "f846f03d-aa90-4b0b-cecf-8135e029b326"
      },
      "source": [
        "a = 300\n",
        "a\n",
        "b = \"Shyam\"\n",
        "b              # Print the value of b only"
      ],
      "execution_count": null,
      "outputs": [
        {
          "output_type": "execute_result",
          "data": {
            "text/plain": [
              "'Shyam'"
            ],
            "application/vnd.google.colaboratory.intrinsic+json": {
              "type": "string"
            }
          },
          "metadata": {},
          "execution_count": 4
        }
      ]
    },
    {
      "cell_type": "code",
      "metadata": {
        "id": "5lO4Zn7L0AYK",
        "colab": {
          "base_uri": "https://localhost:8080/"
        },
        "outputId": "2bdf9616-89e6-4159-88c5-9090721fbf18"
      },
      "source": [
        "a = 300\n",
        "a\n",
        "b = \"Shyam\"\n",
        "b\n",
        "print (\"a -->\", a)      # Print the value of a\n",
        "print (\"b -->\", b)      # Print the value of b"
      ],
      "execution_count": null,
      "outputs": [
        {
          "output_type": "stream",
          "name": "stdout",
          "text": [
            "a --> 300\n",
            "b --> Shyam\n"
          ]
        }
      ]
    },
    {
      "cell_type": "markdown",
      "metadata": {
        "id": "ZgCi1YXm0AYc"
      },
      "source": [
        "### 1.3: Error (Indentation Error)"
      ]
    },
    {
      "cell_type": "code",
      "metadata": {
        "id": "bRCshshK0AYf",
        "colab": {
          "base_uri": "https://localhost:8080/"
        },
        "outputId": "d15a11d9-e3c1-46fa-8418-b7f36cc9c1b8"
      },
      "source": [
        " a = 20               # No error\n",
        "print (\"a -->\", a)\n"
      ],
      "execution_count": null,
      "outputs": [
        {
          "output_type": "stream",
          "name": "stdout",
          "text": [
            "a --> 20\n"
          ]
        }
      ]
    },
    {
      "cell_type": "code",
      "metadata": {
        "id": "9qC0PH1v0AYu",
        "colab": {
          "base_uri": "https://localhost:8080/",
          "height": 141
        },
        "outputId": "d432554c-9f1d-4afa-fa1b-5621474fc680"
      },
      "source": [
        "# Error - unexpected indent\n",
        " a = 20               # Error\n",
        "print (\"a -->\", a)\n"
      ],
      "execution_count": null,
      "outputs": [
        {
          "output_type": "error",
          "ename": "IndentationError",
          "evalue": "ignored",
          "traceback": [
            "\u001b[0;36m  File \u001b[0;32m\"<ipython-input-7-49b517ffb201>\"\u001b[0;36m, line \u001b[0;32m2\u001b[0m\n\u001b[0;31m    a = 20               # Error\u001b[0m\n\u001b[0m    ^\u001b[0m\n\u001b[0;31mIndentationError\u001b[0m\u001b[0;31m:\u001b[0m unexpected indent\n"
          ]
        }
      ]
    },
    {
      "cell_type": "code",
      "metadata": {
        "id": "XwIMC7J70AYy",
        "colab": {
          "base_uri": "https://localhost:8080/"
        },
        "outputId": "f3de45ab-4923-46e0-9eed-74250c1e48ee"
      },
      "source": [
        " # No Error\n",
        " a = 20              # No Error\n",
        "print (\"a -->\", a)\n"
      ],
      "execution_count": null,
      "outputs": [
        {
          "output_type": "stream",
          "name": "stdout",
          "text": [
            "a --> 20\n"
          ]
        }
      ]
    },
    {
      "cell_type": "markdown",
      "source": [],
      "metadata": {
        "id": "AWks3LA0U4sG"
      }
    },
    {
      "cell_type": "code",
      "metadata": {
        "id": "Kei8qMwg0AY_"
      },
      "source": [
        "# Error - unexpected indent\n",
        "a = 20\n",
        "print (\"a -->\", a)\n",
        " b = 30              # Error\n",
        "print (\"b -->\", b)\n"
      ],
      "execution_count": null,
      "outputs": []
    },
    {
      "cell_type": "markdown",
      "source": [
        "Sometimes, a multi-word variable name can be difficult to read by the reader. To make it more readable, the programmer can do the following:"
      ],
      "metadata": {
        "id": "1IK3jonkYJh8"
      }
    },
    {
      "cell_type": "code",
      "source": [
        "NameOfCity = \"Mumbai\"       #Pascal case\n",
        "nameOfCity = \"Berlin\"       #Camel case\n",
        "name_of_city = \"Moscow\"     #snake case"
      ],
      "metadata": {
        "id": "JFcYcAvGYLMs"
      },
      "execution_count": null,
      "outputs": []
    },
    {
      "cell_type": "markdown",
      "source": [],
      "metadata": {
        "id": "SR02gq757XyV"
      }
    },
    {
      "cell_type": "markdown",
      "source": [
        "# **Data Types**\n",
        "Data type specifies the type of value a variable requires to do various operations without causing an error. By default, python provides the following built-in data types:\n",
        "\n",
        "Numeric data: int, float, complex\n",
        "int: 3, -8, 0\n",
        "\n",
        "float: 7.349, -9.0, 0.0000001\n",
        "\n",
        "complex: 6 + 2i\n",
        "\n",
        "\n",
        "Text data: str\n",
        "str: “Hello World!!!”, “Python Programming”\n",
        "\n",
        "\n",
        "Boolean data:\n",
        "Boolean data consists of values True or False.\n",
        "\n",
        "\n",
        "Sequenced data: list, tuple, range\n",
        "\n",
        "# list:\n",
        "\n",
        " A list is an ordered collection of data with elements separated by a comma and enclosed within square brackets. Lists are mutable and can be modified after creation."
      ],
      "metadata": {
        "id": "3gew5UZyYxpn"
      }
    },
    {
      "cell_type": "code",
      "source": [
        "list1 = [8, 2.3, [-4, 5], [\"apple\", \"banana\"]]\n",
        "print(list1)"
      ],
      "metadata": {
        "id": "eCJf63o8Y7dK",
        "colab": {
          "base_uri": "https://localhost:8080/"
        },
        "outputId": "245216d9-6235-4c71-a0d8-e0f8a058e000"
      },
      "execution_count": null,
      "outputs": [
        {
          "output_type": "stream",
          "name": "stdout",
          "text": [
            "[8, 2.3, [-4, 5], ['apple', 'banana']]\n"
          ]
        }
      ]
    },
    {
      "cell_type": "markdown",
      "source": [
        "# **tuple**:\n",
        "\n",
        "A tuple is an ordered collection of data with elements separated by a comma and enclosed within parentheses. Tuples are immutable and can not be modified after creation."
      ],
      "metadata": {
        "id": "JipNhBDKZEIq"
      }
    },
    {
      "cell_type": "code",
      "source": [
        "tuple1 = ((\"parrot\", \"sparrow\"), (\"Lion\", \"Tiger\"))\n",
        "print(tuple1)"
      ],
      "metadata": {
        "id": "ah35XFvDZGjp",
        "colab": {
          "base_uri": "https://localhost:8080/"
        },
        "outputId": "546c7cdf-4cb0-464f-f704-b4b8ca6b0ac2"
      },
      "execution_count": null,
      "outputs": [
        {
          "output_type": "stream",
          "name": "stdout",
          "text": [
            "(('parrot', 'sparrow'), ('Lion', 'Tiger'))\n"
          ]
        }
      ]
    },
    {
      "cell_type": "markdown",
      "source": [
        "# range:\n",
        "\n",
        "returns a sequence of numbers as specified by the user. If not specified by the user then it starts from 0 by default and increments by 1."
      ],
      "metadata": {
        "id": "kTy66XS5ZLj4"
      }
    },
    {
      "cell_type": "code",
      "source": [
        "sequence1 = range(4,14,3)\n",
        "for i in sequence1:\n",
        "    print(i)"
      ],
      "metadata": {
        "id": "S1TacR6gZQd0",
        "colab": {
          "base_uri": "https://localhost:8080/"
        },
        "outputId": "edca13eb-624a-4c9a-d4e7-dddb07ee3110"
      },
      "execution_count": null,
      "outputs": [
        {
          "output_type": "stream",
          "name": "stdout",
          "text": [
            "4\n",
            "7\n",
            "10\n",
            "13\n"
          ]
        }
      ]
    },
    {
      "cell_type": "markdown",
      "source": [
        "# **Mapped data: dict**\n",
        "\n",
        "dict: a dictionary is an unordered collection of data containing a key:value pair.\n",
        "\n",
        "\n",
        "\n",
        "```\n",
        "# This is formatted as code\n",
        "```\n",
        "\n",
        "The key:value pairs are enclosed within curly brackets."
      ],
      "metadata": {
        "id": "D1keL5BfZa11"
      }
    },
    {
      "cell_type": "code",
      "source": [
        "dict1 = {\"name\":\"Sakshi\", \"age\":20, \"canVote\":True}\n",
        "print(dict1)"
      ],
      "metadata": {
        "id": "GmaCECFpZhFY"
      },
      "execution_count": null,
      "outputs": []
    },
    {
      "cell_type": "markdown",
      "source": [
        "# **Data Conversion**\n",
        "\n",
        "The process of converting numeric data from one type to another is called as type conversion.\n",
        "\n",
        "To convert from integer to float, we use float() function.\n",
        "\n",
        "To convert from integer to complex, we use the complex() function."
      ],
      "metadata": {
        "id": "PzyXR8s7Zz25"
      }
    },
    {
      "cell_type": "code",
      "source": [
        "num1 = -25\n",
        "num2 = float(num1)\n",
        "num3 = complex(num1)\n",
        "\n",
        "print(num2)\n",
        "print(num3)"
      ],
      "metadata": {
        "id": "7qq4-COrZ4Em",
        "colab": {
          "base_uri": "https://localhost:8080/"
        },
        "outputId": "035cdc7d-720c-4376-a820-be96a67d5edb"
      },
      "execution_count": null,
      "outputs": [
        {
          "output_type": "stream",
          "name": "stdout",
          "text": [
            "-25.0\n",
            "(-25+0j)\n"
          ]
        }
      ]
    },
    {
      "cell_type": "markdown",
      "source": [
        "To convert from float to integer, we use int() function.\n",
        "\n",
        "int() function rounds of the given number to the nearest integer value.\n",
        "\n",
        "\n",
        "To convert from float to complex, we use the complex() function."
      ],
      "metadata": {
        "id": "6WCXplOiZ-77"
      }
    },
    {
      "cell_type": "code",
      "source": [
        "num1 = 8.4\n",
        "num2 = int(num1)\n",
        "num3 = complex(num1)\n",
        "\n",
        "print(num2)\n",
        "print(num3)"
      ],
      "metadata": {
        "id": "hMv60VFGaFHz"
      },
      "execution_count": null,
      "outputs": []
    },
    {
      "cell_type": "markdown",
      "source": [
        "Note: complex numbers cannot be converted to integer or float."
      ],
      "metadata": {
        "id": "0zvl-LBaaK3P"
      }
    },
    {
      "cell_type": "markdown",
      "source": [
        "# **Type Casting**\n",
        "\n",
        "Similar to type conversion, type casting is done when we want to specify a type on a variable."
      ],
      "metadata": {
        "id": "4jJosqv0a-Dm"
      }
    },
    {
      "cell_type": "code",
      "source": [
        "str1 = \"7\"\n",
        "str2 = \"3.142\"\n",
        "str3 = \"13\"\n",
        "num1 = 29\n",
        "num2 = 6.67\n",
        "\n",
        "print(int(str1))\n",
        "print(float(str2))\n",
        "print(float(str3))\n",
        "print(str(num1))\n",
        "print(str(num2))"
      ],
      "metadata": {
        "id": "4m31bOF8bAKr",
        "colab": {
          "base_uri": "https://localhost:8080/"
        },
        "outputId": "95f7dba0-7891-45b6-ccd5-a1d2a8c2d72a"
      },
      "execution_count": null,
      "outputs": [
        {
          "output_type": "stream",
          "name": "stdout",
          "text": [
            "7\n",
            "3.142\n",
            "13.0\n",
            "29\n",
            "6.67\n"
          ]
        }
      ]
    },
    {
      "cell_type": "markdown",
      "metadata": {
        "id": "IaiOvz8a_1XO"
      },
      "source": [
        "# 2: Different types of Operators"
      ]
    },
    {
      "cell_type": "markdown",
      "metadata": {
        "id": "3onbypIO0AZI"
      },
      "source": [
        "## 2.1 Arithmetic Operators (+, -, \\*, /, //, %, **)"
      ]
    },
    {
      "cell_type": "markdown",
      "metadata": {
        "id": "3IPXSw1D0AZM"
      },
      "source": [
        "### 2.1.1: Use of + - * / %"
      ]
    },
    {
      "cell_type": "code",
      "metadata": {
        "id": "zbLWzy_x0AZO"
      },
      "source": [
        "#------------------------------------------------------------------------\n",
        "# 2.1.1: Use of + - * / %\n",
        "#------------------------------------------------------------------------\n",
        "a = 220\n",
        "b = 16\n",
        "\n",
        "c = a + b       # Use of +\n",
        "print (a, \"+\", b, \"-->\", c)\n",
        "\n",
        "c = a - b       # Use of -\n",
        "print (a, \"-\", b, \"-->\", c)\n",
        "\n",
        "c = a * b       # Use of *\n",
        "print (a, \"*\", b, \"-->\", c)\n",
        "\n",
        "c = a / b       # Use of /\n",
        "print (a, \"/\", b, \"-->\", c)\n",
        "\n",
        "c = a % b       # Use of %\n",
        "print (a, \"%\", b, \"-->\", c)\n"
      ],
      "execution_count": null,
      "outputs": []
    },
    {
      "cell_type": "markdown",
      "metadata": {
        "id": "4JbG9O0T0AZV"
      },
      "source": [
        "### 2.1.2: Use of / and  //"
      ]
    },
    {
      "cell_type": "markdown",
      "source": [
        "regular division operator / and the floor division operator //\n",
        "\n",
        "In the first calculation, c = a / b, you're using the regular division operator /. This division operator performs normal division and returns a floating-point result. In this case, 220 / 16 equals 13.75. Therefore, c will be assigned the value 13.75.\n",
        "\n",
        "In the second calculation, c = a // b, you're using the floor division operator //. The floor division operator performs division and rounds down the result to the nearest integer. In this case, 220 // 16 equals 13. Therefore, c will be assigned the value 13."
      ],
      "metadata": {
        "id": "nrNrfFt9kjB1"
      }
    },
    {
      "cell_type": "code",
      "metadata": {
        "id": "a8y__4p80AZX"
      },
      "source": [
        "#------------------------------------------------------------------------\n",
        "# 2.1.2: Use of / and  //\n",
        "#------------------------------------------------------------------------\n",
        "a = 220\n",
        "b = 16\n",
        "\n",
        "c = a / b       # Use of /\n",
        "print (a, \" /\", b, \"-->\", c)\n",
        "\n",
        "c = a // b      # Use of //\n",
        "print (a, \"//\", b, \"-->\", c)\n"
      ],
      "execution_count": null,
      "outputs": []
    },
    {
      "cell_type": "markdown",
      "metadata": {
        "id": "4HIDZ98F0AZh"
      },
      "source": [
        "### 2.1.3: Use of ** (power)"
      ]
    },
    {
      "cell_type": "code",
      "metadata": {
        "id": "qWIO6bZj0AZj",
        "colab": {
          "base_uri": "https://localhost:8080/"
        },
        "outputId": "21ece96e-43f8-4327-a4e8-6877f3abb24c"
      },
      "source": [
        "#------------------------------------------------------------------------\n",
        "# 2.1.3: Use of ** (power)\n",
        "#------------------------------------------------------------------------\n",
        "a = 9\n",
        "b = 2\n",
        "\n",
        "c = a ** b       # Use of **\n",
        "print (a, \"**\", b, \"-->\", c)\n"
      ],
      "execution_count": null,
      "outputs": [
        {
          "output_type": "stream",
          "name": "stdout",
          "text": [
            "9 ** 2 --> 81\n"
          ]
        }
      ]
    },
    {
      "cell_type": "markdown",
      "source": [
        "The line c = a ** b calculates a raised to the power of b using the exponentiation operator **. In this case, 9 ** 2 equals 81. Therefore, c will be assigned the value 81."
      ],
      "metadata": {
        "id": "kzGJEXeik5S8"
      }
    },
    {
      "cell_type": "markdown",
      "metadata": {
        "id": "oGdDlYYA0AZp"
      },
      "source": [
        "## 2.2: Bitwise Operators (&, |, ~, ^, >>, <<)"
      ]
    },
    {
      "cell_type": "markdown",
      "metadata": {
        "id": "xT_Pn9eu0AZr"
      },
      "source": [
        "### 2.2.1: Use of & (and)"
      ]
    },
    {
      "cell_type": "code",
      "metadata": {
        "id": "SuMwRaxC0AZt",
        "colab": {
          "base_uri": "https://localhost:8080/"
        },
        "outputId": "e9962c21-4b1e-4e54-8e45-6e027ac1b4df"
      },
      "source": [
        "#------------------------------------------------------------------------\n",
        "# 2.2.1: Use of & (and) --> Sets each bit to 1 if both bits are 1.\n",
        "#------------------------------------------------------------------------\n",
        "#Example 1:\n",
        "a = 0\n",
        "b = 1\n",
        "d = 1\n",
        "\n",
        "c = a & b       # Use of &\n",
        "print (a, \"&\", b, \"-->\", c)\n",
        "\n",
        "c = d & b       # Use of &\n",
        "print (d, \"&\", b, \"-->\", c)\n"
      ],
      "execution_count": null,
      "outputs": [
        {
          "output_type": "stream",
          "name": "stdout",
          "text": [
            "0 & 1 --> 0\n",
            "1 & 1 --> 1\n"
          ]
        }
      ]
    },
    {
      "cell_type": "markdown",
      "source": [
        "The first calculation, c = a & b, involves using the bitwise AND operator & between the binary representations of a and b. The binary representation of 0 is 0000, and the binary representation of 1 is 0001.The result of the bitwise AND operation is 0000 in binary, which is equivalent to 0 in decimal. Therefore, c will be assigned the value 0.\n",
        "\n",
        "The second calculation, c = d & b, involves using the bitwise AND operator & between the binary representations of d and b. The binary representation of both 1 and d is 0001. The result of the bitwise AND operation is 0001 in binary, which is equivalent to 1 in decimal. Therefore, c will be assigned the value 1."
      ],
      "metadata": {
        "id": "dcEls9A3lNH1"
      }
    },
    {
      "cell_type": "code",
      "metadata": {
        "id": "AT2mkF-r0AZz"
      },
      "source": [
        "#Example 2:\n",
        "a = 20\n",
        "b = 10\n",
        "d = 10\n",
        "\n",
        "c = a & b       # Use of &\n",
        "print (a, \"&\", b, \"-->\", c)\n",
        "\n",
        "c = d & b       # Use of &\n",
        "print (d, \"&\", b, \"-->\", c)"
      ],
      "execution_count": null,
      "outputs": []
    },
    {
      "cell_type": "markdown",
      "source": [
        "The first calculation, c = a & b, involves using the bitwise AND operator & between the binary representations of a and b. The binary representation of 20 is 10100, and the binary representation of 10 is 01010.The result of the bitwise AND operation is 00000 in binary, which is equivalent to 0 in decimal. Therefore, c will be assigned the value 0.\n",
        "\n",
        "The second calculation, c = d & b, involves using the bitwise AND operator & between the binary representations of d and b. The binary representation of both 10 and d is 01010. The result of the bitwise AND operation is 01010 in binary, which is equivalent to 10 in decimal. Therefore, c will be assigned the value 10.\n",
        "\n"
      ],
      "metadata": {
        "id": "4HniaoXWloBD"
      }
    },
    {
      "cell_type": "markdown",
      "metadata": {
        "id": "y7koa57I0AZ4"
      },
      "source": [
        "### 2.2.2: Use of | (or)"
      ]
    },
    {
      "cell_type": "code",
      "metadata": {
        "id": "CWAmD-Fr0AZ6"
      },
      "source": [
        "#------------------------------------------------------------------------\n",
        "# 2.2.2: Use of | (or) --> Sets each bit to 1 if one of two bits is 1.\n",
        "#------------------------------------------------------------------------\n",
        "#Example 1:\n",
        "a = 0\n",
        "b = 1\n",
        "d = 1\n",
        "\n",
        "c = a | b       # Use of |\n",
        "print (a, \"|\", b, \"-->\", c)\n",
        "\n",
        "c = d | b       # Use of |\n",
        "print (d, \"|\", b, \"-->\", c)\n"
      ],
      "execution_count": null,
      "outputs": []
    },
    {
      "cell_type": "markdown",
      "source": [
        "The first calculation, c = a | b, involves using the bitwise OR operator | between the binary representations of a and b. The binary representation of 0 is 0000, and the binary representation of 1 is 0001.The result of the bitwise OR operation is 0001 in binary, which is equivalent to 1 in decimal. Therefore, c will be assigned the value 1.\n",
        "\n"
      ],
      "metadata": {
        "id": "vSp3rNosmU8B"
      }
    },
    {
      "cell_type": "code",
      "metadata": {
        "id": "RT98Il0W0AaC"
      },
      "source": [
        "#Example 2:\n",
        "a = 20\n",
        "b = 10\n",
        "d = 10\n",
        "\n",
        "c = a | b       # Use of |\n",
        "print (a, \"|\", b, \"-->\", c)\n",
        "\n",
        "c = d | b       # Use of |\n",
        "print (d, \"|\", b, \"-->\", c)"
      ],
      "execution_count": null,
      "outputs": []
    },
    {
      "cell_type": "markdown",
      "source": [
        "The first calculation, c = a | b, involves using the bitwise OR operator | between the binary representations of a and b. The binary representation of 20 is 10100, and the binary representation of 10 is 01010.The result of the bitwise OR operation is 11110 in binary, which is equivalent to 30 in decimal. Therefore, c will be assigned the value 30."
      ],
      "metadata": {
        "id": "9dP5Fs_7nf83"
      }
    },
    {
      "cell_type": "markdown",
      "metadata": {
        "id": "Zjmqkiq40AaH"
      },
      "source": [
        "### 2.2.3: Use of ~ (not)"
      ]
    },
    {
      "cell_type": "code",
      "metadata": {
        "id": "3ViKmYcy0AaH",
        "colab": {
          "base_uri": "https://localhost:8080/"
        },
        "outputId": "7a24a2f7-d6b8-49ef-f5f3-955dec1675a7"
      },
      "source": [
        "#------------------------------------------------------------------------\n",
        "# 2.2.3: Use of ~ (not) --> Inverts all the bits.\n",
        "#------------------------------------------------------------------------\n",
        "#Example 1:\n",
        "a = 0\n",
        "b = 1\n",
        "\n",
        "c = ~a        # Use of ~\n",
        "print (\"~\", a, \"-->\", c)\n",
        "\n",
        "c = ~b       # Use of ~\n",
        "print (\"~\", b, \"-->\", c)\n"
      ],
      "execution_count": null,
      "outputs": [
        {
          "output_type": "stream",
          "name": "stdout",
          "text": [
            "~ 0 --> -1\n",
            "~ 1 --> -2\n"
          ]
        }
      ]
    },
    {
      "cell_type": "markdown",
      "source": [
        "The first calculation, c = ~a, involves using the bitwise NOT operator ~ on the binary representation of a. The binary representation of 0 is 0000. Applying the bitwise NOT operation to each bit:\n",
        "~0000\n",
        "------\n",
        "1111\n",
        "The result of the bitwise NOT operation is 1111 in binary, which is equivalent to -1 in two's complement signed integer representation. Therefore, c will be assigned the value -1.\n",
        "\n",
        "The second calculation, c = ~b, involves using the bitwise NOT operator ~ on the binary representation of b. The binary representation of 1 is 0001. Applying the bitwise NOT operation to each bit:\n",
        "~0001\n",
        "------\n",
        "1110\n",
        "The result of the bitwise NOT operation is 1110 in binary, which is equivalent to -2 in two's complement signed integer representation. Therefore, c will be assigned the value -2.\n",
        "\n",
        "The code demonstrates the bitwise NOT operation on binary representations of numbers, resulting in negative values in two's complement representation."
      ],
      "metadata": {
        "id": "W4QunS4Jn_33"
      }
    },
    {
      "cell_type": "code",
      "metadata": {
        "id": "-uTbmi2Q0AaM",
        "colab": {
          "base_uri": "https://localhost:8080/"
        },
        "outputId": "d2fdc354-a629-4a36-e690-b327755b70be"
      },
      "source": [
        "#Example 2:\n",
        "a = 20\n",
        "b = 10\n",
        "\n",
        "c = ~a        # Use of ~\n",
        "print (\"~\", a, \"-->\", c)\n",
        "\n",
        "c = ~b       # Use of ~\n",
        "print (\"~\", b, \"-->\", c)"
      ],
      "execution_count": null,
      "outputs": [
        {
          "output_type": "stream",
          "name": "stdout",
          "text": [
            "~ 20 --> -21\n",
            "~ 10 --> -11\n"
          ]
        }
      ]
    },
    {
      "cell_type": "markdown",
      "source": [
        "The first calculation, c = ~a, involves using the bitwise NOT operator ~ on the binary representation of a. The binary representation of 20 is 10100. Applying the bitwise NOT operation to each bit:\n",
        "~10100\n",
        "-------\n",
        "01011\n",
        "The result of the bitwise NOT operation is 01011 in binary, which is equivalent to -21 in two's complement signed integer representation. Therefore, c will be assigned the value -21.\n",
        "\n",
        "The second calculation, c = ~b, involves using the bitwise NOT operator ~ on the binary representation of b. The binary representation of 10 is 01010. Applying the bitwise NOT operation to each bit:\n",
        "~01010\n",
        "-------\n",
        "10101\n",
        "The result of the bitwise NOT operation is 10101 in binary, which is equivalent to -11 in two's complement signed integer representation. Therefore, c will be assigned the value -11."
      ],
      "metadata": {
        "id": "kX7zKUSHojgX"
      }
    },
    {
      "cell_type": "markdown",
      "metadata": {
        "id": "gw1ggOXn0AaT"
      },
      "source": [
        "### 2.2.4: Use of ^ (xor)"
      ]
    },
    {
      "cell_type": "code",
      "metadata": {
        "id": "scXT8GYN0AaU"
      },
      "source": [
        "#------------------------------------------------------------------------\n",
        "# 2.2.4: Use of ^ (xor) --> Sets each bit to 1 if only one of two bits is 1.\n",
        "#------------------------------------------------------------------------\n",
        "#Example 1:\n",
        "a = 0\n",
        "b = 1\n",
        "d = 1\n",
        "\n",
        "c = a ^ b       # Use of ^\n",
        "print (a, \"^\", b, \"-->\", c)\n",
        "\n",
        "c = d ^ b       # Use of ^\n",
        "print (d, \"^\", b, \"-->\", c)\n"
      ],
      "execution_count": null,
      "outputs": []
    },
    {
      "cell_type": "markdown",
      "source": [
        "The first calculation, c = a ^ b, involves using the bitwise XOR operator ^ between the binary representations of a and b. The binary representation of 0 is 0000, and the binary representation of 1 is 0001. Performing a bitwise XOR operation:\n",
        "0000\n",
        "0001\n",
        "------\n",
        "0001\n",
        "The result of the bitwise XOR operation is 0001 in binary, which is equivalent to 1 in decimal. Therefore, c will be assigned the value 1.\n",
        "\n",
        "The second calculation, c = d ^ b, involves using the bitwise XOR operator ^ between the binary representations of d and b. The binary representation of both 1 and d is 0001. Performing a bitwise XOR operation:\n",
        "0001\n",
        "0001\n",
        "------\n",
        "0000\n",
        "The result of the bitwise XOR operation is 0000 in binary, which is equivalent to 0 in decimal. Therefore, c will be assigned the value 0."
      ],
      "metadata": {
        "id": "UiqVY-XDo9mB"
      }
    },
    {
      "cell_type": "code",
      "metadata": {
        "id": "q_UPl7OT0AaZ"
      },
      "source": [
        "#Example 2:\n",
        "a = 20\n",
        "b = 10\n",
        "d = 10\n",
        "\n",
        "c = a ^ b       # Use of ^\n",
        "print (a, \"^\", b, \"-->\", c)\n",
        "\n",
        "c = d ^ b       # Use of ^\n",
        "print (d, \"^\", b, \"-->\", c)\n"
      ],
      "execution_count": null,
      "outputs": []
    },
    {
      "cell_type": "markdown",
      "source": [
        "The first calculation, c = a ^ b, involves using the bitwise XOR operator ^ between the binary representations of a and b. The binary representation of 20 is 10100, and the binary representation of 10 is 01010. Performing a bitwise XOR operation:\n",
        "10100\n",
        "01010\n",
        "------\n",
        "11110\n",
        "The result of the bitwise XOR operation is 11110 in binary, which is equivalent to 30 in decimal. Therefore, c will be assigned the value 30.\n",
        "\n",
        "The second calculation, c = d ^ b, involves using the bitwise XOR operator ^ between the binary representations of d and b. The binary representation of both 10 and d is 01010. Performing a bitwise XOR operation:\n",
        "01010\n",
        "01010\n",
        "------\n",
        "00000\n",
        "The result of the bitwise XOR operation is 00000 in binary, which is equivalent to 0 in decimal. Therefore, c will be assigned the value 0."
      ],
      "metadata": {
        "id": "4GhhaA-ppYhR"
      }
    },
    {
      "cell_type": "markdown",
      "metadata": {
        "id": "YgR7k9si0Aag"
      },
      "source": [
        "### 2.2.5: Use  >> (shift right)"
      ]
    },
    {
      "cell_type": "code",
      "metadata": {
        "id": "Gh3Ohn0v0Aah",
        "colab": {
          "base_uri": "https://localhost:8080/"
        },
        "outputId": "2cd1520c-8325-47c7-a815-733eed5bdffd"
      },
      "source": [
        "#------------------------------------------------------------------------\n",
        "# 2.2.5: Use  >> (shift right) --> Shift right by pushing copies of the leftmost\n",
        "# bit in from the left, and let the rightmost bits fall off.\n",
        "#------------------------------------------------------------------------\n",
        "#Example 1:\n",
        "a = 1\n",
        "b = 1\n",
        "d = 2\n",
        "\n",
        "c = a >> b       # Use of >>\n",
        "print (a, \">>\", b, \"-->\", c)\n",
        "\n",
        "c = a >> d       # Use of >>\n",
        "print (a, \">>\", d, \"-->\", c)\n"
      ],
      "execution_count": null,
      "outputs": [
        {
          "output_type": "stream",
          "name": "stdout",
          "text": [
            "1 >> 1 --> 0\n",
            "1 >> 2 --> 0\n"
          ]
        }
      ]
    },
    {
      "cell_type": "markdown",
      "source": [
        "The first calculation, c = a >> b, involves using the right-shift operator >> on the binary representation of a. The binary representation of 1 is 0001. Shifting the bits of a to the right by 1 position:\n",
        "0001 >> 1\n",
        "--------\n",
        "0000\n",
        "The result of the right-shift operation is 0000 in binary, which is equivalent to 0 in decimal. Therefore, c will be assigned the value 0.\n",
        "\n",
        "The second calculation, c = a >> d, involves using the right-shift operator >> on the binary representation of a. Shifting the bits of a to the right by 2 positions:\n",
        "0001 >> 2\n",
        "--------\n",
        "0000\n",
        "\n",
        "The result of the right-shift operation is again 0000 in binary, which is equivalent to 0 in decimal. Therefore, c will be assigned the value 0."
      ],
      "metadata": {
        "id": "9uTByVX4rGgJ"
      }
    },
    {
      "cell_type": "code",
      "metadata": {
        "id": "V7xFfYQm0Aao",
        "colab": {
          "base_uri": "https://localhost:8080/"
        },
        "outputId": "20ee914a-9dd2-4c0c-ba10-67dd40dc1fd5"
      },
      "source": [
        "#Example 2:\n",
        "a = 20\n",
        "b = 1\n",
        "d = 2\n",
        "\n",
        "c = a >> b       # Use of >>\n",
        "print (a, \">>\", b, \"-->\", c)\n",
        "\n",
        "c = a >> d       # Use of >>\n",
        "print (a, \">>\", d, \"-->\", c)\n"
      ],
      "execution_count": null,
      "outputs": [
        {
          "output_type": "stream",
          "name": "stdout",
          "text": [
            "20 >> 1 --> 10\n",
            "20 >> 2 --> 5\n"
          ]
        }
      ]
    },
    {
      "cell_type": "markdown",
      "source": [
        "The first calculation, c = a >> b, involves using the right-shift operator >> on the binary representation of a. The binary representation of 20 is 10100. Shifting the bits of a to the right by 1 position:\n",
        "10100 >> 1\n",
        "----------\n",
        "01010\n",
        "\n",
        "The result of the right-shift operation is 01010 in binary, which is equivalent to 10 in decimal. Therefore, c will be assigned the value 10.\n",
        "\n",
        "The second calculation, c = a >> d, involves using the right-shift operator >> on the binary representation of a. Shifting the bits of a to the right by 2 positions:\n",
        "\n",
        "10100 >> 2\n",
        "----------\n",
        "00101\n",
        "\n",
        "The result of the right-shift operation is 00101 in binary, which is equivalent to 5 in decimal. Therefore, c will be assigned the value 5."
      ],
      "metadata": {
        "id": "vGSTyny8rk9v"
      }
    },
    {
      "cell_type": "markdown",
      "metadata": {
        "id": "4a-AK0c30Aat"
      },
      "source": [
        "### 2.2.6: Use  << (shift left)"
      ]
    },
    {
      "cell_type": "code",
      "metadata": {
        "id": "-SC1w-rV0Aav"
      },
      "source": [
        "#------------------------------------------------------------------------\n",
        "# 2.2.6: Use  << (shift left) --> Zero fill left shift\n",
        "# Shift left by pushing zeros in from the right and let the leftmost bits fall off.\n",
        "#------------------------------------------------------------------------\n",
        "#Example 1:\n",
        "a = 1\n",
        "b = 1\n",
        "d = 2\n",
        "\n",
        "c = a << b       # Use of <<\n",
        "print (a, \"<<\", b, \"-->\", c)\n",
        "\n",
        "c = a << d       # Use of <<\n",
        "print (a, \"<<\", d, \"-->\", c)\n"
      ],
      "execution_count": null,
      "outputs": []
    },
    {
      "cell_type": "markdown",
      "source": [
        "The first calculation, c = a << b, involves using the left-shift operator << on the binary representation of a. The binary representation of 1 is 0001. Shifting the bits of a to the left by 1 position:\n",
        "0001 << 1\n",
        "--------\n",
        "0010\n",
        "\n",
        "The result of the left-shift operation is 0010 in binary, which is equivalent to 2 in decimal. Therefore, c will be assigned the value 2.\n",
        "\n",
        "The second calculation, c = a << d, involves using the left-shift operator << on the binary representation of a. Shifting the bits of a to the left by 2 positions:\n",
        "0001 << 2\n",
        "--------\n",
        "0100\n",
        "\n",
        "The result of the left-shift operation is 0100 in binary, which is equivalent to 4 in decimal. Therefore, c will be assigned the value 4."
      ],
      "metadata": {
        "id": "Kc5BfBH6s48d"
      }
    },
    {
      "cell_type": "markdown",
      "source": [],
      "metadata": {
        "id": "Ht87fHzWr4Fk"
      }
    },
    {
      "cell_type": "code",
      "metadata": {
        "id": "RIdXcEQp0Aa3"
      },
      "source": [
        "#Example 2:\n",
        "a = 20\n",
        "b = 1\n",
        "d = 2\n",
        "\n",
        "c = a << b       # Use of <<\n",
        "print (a, \"<<\", b, \"-->\", c)\n",
        "\n",
        "c = a << d       # Use of <<\n",
        "print (a, \"<<\", d, \"-->\", c)\n"
      ],
      "execution_count": null,
      "outputs": []
    },
    {
      "cell_type": "markdown",
      "source": [
        "The first calculation, c = a << b, involves using the left-shift operator << on the binary representation of a. The binary representation of 20 is 10100. Shifting the bits of a to the left by 1 position:\n",
        "10100 << 1\n",
        "----------\n",
        "101000\n",
        "\n",
        "The result of the left-shift operation is 101000 in binary, which is equivalent to 40 in decimal. Therefore, c will be assigned the value 40.\n",
        "\n",
        "The second calculation, c = a << d, involves using the left-shift operator << on the binary representation of a. Shifting the bits of a to the left by 2 positions:\n",
        "10100 << 2\n",
        "----------\n",
        "1010000\n",
        "\n",
        "The result of the left-shift operation is 1010000 in binary, which is equivalent to 80 in decimal. Therefore, c will be assigned the value 80."
      ],
      "metadata": {
        "id": "0iLSGG2ZtVmq"
      }
    },
    {
      "cell_type": "markdown",
      "metadata": {
        "id": "udLqT_dv0Aa9"
      },
      "source": [
        "## 2.3: Assignment Operators (=, +=, -=, /=, //=)"
      ]
    },
    {
      "cell_type": "markdown",
      "metadata": {
        "id": "HmgNI1TQ0Aa_"
      },
      "source": [
        "### 2.3.1: Use of +="
      ]
    },
    {
      "cell_type": "code",
      "metadata": {
        "id": "mW91XYAG0AbA",
        "colab": {
          "base_uri": "https://localhost:8080/"
        },
        "outputId": "c78bede3-8d00-4150-a836-7f62af16e572"
      },
      "source": [
        "#------------------------------------------------------------------------\n",
        "# 2.3.1: Use of +=\n",
        "#------------------------------------------------------------------------\n",
        "a = 20\n",
        "print (\"a  =\", a)\n",
        "\n",
        "a += 10\n",
        "print (\"a += 10 -->\", a)\n"
      ],
      "execution_count": null,
      "outputs": [
        {
          "output_type": "stream",
          "name": "stdout",
          "text": [
            "a  = 20\n",
            "a += 10 --> 30\n"
          ]
        }
      ]
    },
    {
      "cell_type": "markdown",
      "metadata": {
        "id": "LRhzYVRu0AbE"
      },
      "source": [
        "### 2.3.2: Use of -="
      ]
    },
    {
      "cell_type": "code",
      "metadata": {
        "id": "qY57W-920AbI"
      },
      "source": [
        "#------------------------------------------------------------------------\n",
        "# 2.3.2: Use of -=\n",
        "#------------------------------------------------------------------------\n",
        "a = 20\n",
        "print (\"a  =\", a)\n",
        "\n",
        "a -= 10\n",
        "print (\"a -= 10 -->\", a)\n"
      ],
      "execution_count": null,
      "outputs": []
    },
    {
      "cell_type": "markdown",
      "metadata": {
        "id": "NakoZD0v0AbN"
      },
      "source": [
        "### 2.3.3: Use of *="
      ]
    },
    {
      "cell_type": "code",
      "metadata": {
        "id": "XBo2XjeV0AbT"
      },
      "source": [
        "#------------------------------------------------------------------------\n",
        "# 2.3.3: Use of *=\n",
        "#------------------------------------------------------------------------\n",
        "a = 20\n",
        "print (\"a  =\", a)\n",
        "\n",
        "a *= 10\n",
        "print (\"a *= 10 -->\", a)\n"
      ],
      "execution_count": null,
      "outputs": []
    },
    {
      "cell_type": "markdown",
      "metadata": {
        "id": "6FiBSHHL0Aba"
      },
      "source": [
        "### 2.3.4: Use of /= and //="
      ]
    },
    {
      "cell_type": "code",
      "metadata": {
        "id": "uSDOkuL80Abb"
      },
      "source": [
        "#------------------------------------------------------------------------\n",
        "# 2.3.4: Use of /= and //=\n",
        "#------------------------------------------------------------------------\n",
        "a = 20\n",
        "print (\"\\n a  =\", a)\n",
        "\n",
        "a /= 10\n",
        "print (\" a /= 10  -->\", a)\n",
        "\n",
        "a = 20\n",
        "print (\"\\n a   =\", a)\n",
        "\n",
        "a //= 10\n",
        "print (\" a //= 10 -->\", a)\n"
      ],
      "execution_count": null,
      "outputs": []
    },
    {
      "cell_type": "markdown",
      "source": [
        "# **Python Booleans**\n",
        "\n",
        "Boolean consists of only two values; True and False.\n",
        "\n",
        "\n",
        "\n",
        "**Why are Boolean’s needed?**"
      ],
      "metadata": {
        "id": "Pi8VpPlLbxzO"
      }
    },
    {
      "cell_type": "code",
      "source": [
        "x = 13\n",
        "if(x>13):\n",
        "    print(\"X is a greater than 13.\")\n",
        "else:\n",
        "    print(\"X is not greater than 13.\")"
      ],
      "metadata": {
        "id": "aSvGX_iyb3LA",
        "colab": {
          "base_uri": "https://localhost:8080/"
        },
        "outputId": "a111d04f-19cf-43c2-f3ad-570a59efe3e9"
      },
      "execution_count": null,
      "outputs": [
        {
          "output_type": "stream",
          "name": "stdout",
          "text": [
            "X is not greater than 13.\n"
          ]
        }
      ]
    },
    {
      "cell_type": "markdown",
      "source": [
        "Is it True that X is greater than 13 or is it False?\n",
        "\n",
        "\n",
        "Thus Booleans are used to know whether the given expression is True or False.\n",
        "\n",
        "bool() function evaluates values and returns True or False."
      ],
      "metadata": {
        "id": "ozn4EDLLcXhc"
      }
    },
    {
      "cell_type": "markdown",
      "metadata": {
        "id": "2370SaUuD5C0"
      },
      "source": [
        "# 3: Input from user"
      ]
    },
    {
      "cell_type": "markdown",
      "metadata": {
        "id": "EomBo6nS0Abk"
      },
      "source": [
        "### 3.1: Input from user and print it"
      ]
    },
    {
      "cell_type": "code",
      "metadata": {
        "id": "_2b0qoVd0Abl",
        "colab": {
          "base_uri": "https://localhost:8080/"
        },
        "outputId": "8ca467ca-dae2-429c-9b88-5befc3484824"
      },
      "source": [
        "#------------------------------------------------------------------------\n",
        "# 3.1: Input from user and print it\n",
        "#------------------------------------------------------------------------\n",
        "a = input(\"Enter Anything(Name/Numer): \")\n",
        "print(\"\\nYour Input is           -->\",a)\n"
      ],
      "execution_count": null,
      "outputs": [
        {
          "output_type": "stream",
          "name": "stdout",
          "text": [
            "Enter Anything(Name/Numer): 6\n",
            "\n",
            "Your Input is           --> 6\n"
          ]
        }
      ]
    },
    {
      "cell_type": "markdown",
      "source": [
        "# **Python Strings**\n",
        "\n",
        "**What are strings?**\n",
        "\n",
        "In python, anything that you enclose between single or double quotation marks is considered a string.\n",
        "\n",
        " A string is essentially a sequence or array of textual data.\n",
        "\n"
      ],
      "metadata": {
        "id": "qTj79fTpcqJ3"
      }
    },
    {
      "cell_type": "markdown",
      "source": [
        "# **Operation on Strings**\n",
        "\n",
        "# **Length of a String:**\n",
        "\n",
        "We can find the length of a string using len() function."
      ],
      "metadata": {
        "id": "tQ4q1vvveAGZ"
      }
    },
    {
      "cell_type": "code",
      "source": [
        "fruit = \"Mango\"\n",
        "len1 = len(fruit)\n",
        "print(\"Mango is a\", len1, \"letter word.\")"
      ],
      "metadata": {
        "id": "gfxn1ZkweOku"
      },
      "execution_count": null,
      "outputs": []
    },
    {
      "cell_type": "markdown",
      "source": [
        "# **String as an Array:**\n",
        "\n",
        "A string is essentially a sequence of characters also called an array. Thus we can access the elements of this array."
      ],
      "metadata": {
        "id": "SWmiCeDAeSoK"
      }
    },
    {
      "cell_type": "code",
      "source": [
        "pie = \"ApplePie\"\n",
        "print(pie[:5])\n",
        "print(pie[6])\t#returns character at specified index"
      ],
      "metadata": {
        "id": "KC225vhNehxb",
        "colab": {
          "base_uri": "https://localhost:8080/"
        },
        "outputId": "824f6487-02d2-4cc6-8025-c1013942bdbc"
      },
      "execution_count": null,
      "outputs": [
        {
          "output_type": "stream",
          "name": "stdout",
          "text": [
            "Apple\n",
            "i\n"
          ]
        }
      ]
    },
    {
      "cell_type": "markdown",
      "source": [
        "Note: This method of specifying the start and end index to specify a part of a string is called slicing."
      ],
      "metadata": {
        "id": "QAUKOpJ0eucK"
      }
    },
    {
      "cell_type": "code",
      "source": [
        "pie = \"ApplePie\"\n",
        "print(pie[:5])      #Slicing from Start\n",
        "print(pie[5:])      #Slicing till End\n",
        "print(pie[2:6])     #Slicing in between\n",
        "print(pie[-8:])     #Slicing using negative index"
      ],
      "metadata": {
        "id": "eHpQeltieycg",
        "colab": {
          "base_uri": "https://localhost:8080/"
        },
        "outputId": "6e638448-e84c-45b2-f056-bfa9fd3ce960"
      },
      "execution_count": null,
      "outputs": [
        {
          "output_type": "stream",
          "name": "stdout",
          "text": [
            "Apple\n",
            "Pie\n",
            "pleP\n",
            "ApplePie\n"
          ]
        }
      ]
    },
    {
      "cell_type": "markdown",
      "source": [
        "\n",
        "pie[:5] is using string slicing to extract a portion of the string pie. The colon : indicates that you want to start slicing from the beginning of the string and continue up to (but not including) the 5th character. This will extract the characters from indices 0 to 4.\n",
        "\n",
        "The result of pie[:5] is \"Apple\".\n",
        "\n",
        "pie[5:] is using string slicing to extract a portion of the string pie. The colon : indicates that you want to start slicing from the 5th character and continue until the end of the string.\n",
        "\n",
        "The result of pie[5:] is \"Pie\".\n",
        "\n",
        "pie[2:6] is using string slicing to extract a portion of the string pie. The colon : indicates that you want to start slicing from the 2nd character and continue up to (but not including) the 6th character. This will extract the characters from indices 2 to 5.\n",
        "\n",
        "pie[-8:] is using string slicing to extract a portion of the string pie. In this case, the colon : indicates that you want to start slicing from the 8th character from the end of the string (denoted by -8) and continue to the end of the string. Since the string \"ApplePie\" has a length of 8, the slicing effectively starts from the first character and includes the entire string."
      ],
      "metadata": {
        "id": "0weQDL_GugZK"
      }
    },
    {
      "cell_type": "markdown",
      "source": [
        "# **Loop through a String:**\n",
        "\n",
        "Strings are arrays and arrays are iterable. Thus we can loop through strings."
      ],
      "metadata": {
        "id": "L0heKbvue6b9"
      }
    },
    {
      "cell_type": "code",
      "source": [
        "alphabets = \"ABCDE\"\n",
        "for i in alphabets:\n",
        "    print(i)"
      ],
      "metadata": {
        "id": "4UaWEbicfA1y",
        "colab": {
          "base_uri": "https://localhost:8080/"
        },
        "outputId": "d6734b10-1df9-45c6-8c46-5716c6f992fb"
      },
      "execution_count": null,
      "outputs": [
        {
          "output_type": "stream",
          "name": "stdout",
          "text": [
            "A\n",
            "B\n",
            "C\n",
            "D\n",
            "E\n"
          ]
        }
      ]
    },
    {
      "cell_type": "markdown",
      "source": [
        "The for loop iterates through each character i in the string alphabets.\n",
        "\n",
        "In each iteration, the print(i) statement prints the current character i.\n",
        "\n",
        "The code will loop through each character in the string \"ABCDE\" and print them one by one."
      ],
      "metadata": {
        "id": "m6VpOletvZbp"
      }
    },
    {
      "cell_type": "markdown",
      "source": [],
      "metadata": {
        "id": "Cu2IBwk-vZYO"
      }
    },
    {
      "cell_type": "markdown",
      "metadata": {
        "id": "SX3Dg3wc0Abp"
      },
      "source": [
        "### 3.2: Concatenate two strings"
      ]
    },
    {
      "cell_type": "code",
      "metadata": {
        "id": "Dp8Tr0bB0Abr"
      },
      "source": [
        "#------------------------------------------------------------------------\n",
        "# 3.2: Concatenate two strings\n",
        "#------------------------------------------------------------------------\n",
        "a = input(\"Enter First String : \")\n",
        "b = input(\"Enter Second String: \")\n",
        "c = a + b  # concatinate two strings\n",
        "print(\"\")\n",
        "print(a, \"+\", b, \"-->\", c)\n"
      ],
      "execution_count": null,
      "outputs": []
    },
    {
      "cell_type": "markdown",
      "metadata": {
        "id": "9vk9LYPm0Ab1"
      },
      "source": [
        "#### Re-Run the above code and input two numbers"
      ]
    },
    {
      "cell_type": "markdown",
      "metadata": {
        "id": "lmxg4i8Y0Ab2"
      },
      "source": [
        "### 3.3: Input two numbers from user and add them"
      ]
    },
    {
      "cell_type": "code",
      "metadata": {
        "id": "SHf37PIX0Ab4"
      },
      "source": [
        "#------------------------------------------------------------------------\n",
        "# 3.3: Input two numbers from user and add them\n",
        "#------------------------------------------------------------------------\n",
        "a = int(input(\"Enter First No : \"))\n",
        "b = int(input(\"Enter Second No: \"))\n",
        "c = a + b\n",
        "print (\"\")\n",
        "print (a, \"+\", b, \"-->\", c)\n"
      ],
      "execution_count": null,
      "outputs": []
    },
    {
      "cell_type": "markdown",
      "metadata": {
        "id": "ARBarpZ90Ab8"
      },
      "source": [
        "### 3.4: Concatenate String and Number"
      ]
    },
    {
      "cell_type": "markdown",
      "metadata": {
        "id": "GdumdC7r0Ab8"
      },
      "source": [
        "#### 3.4.1 Concatenate String and Number"
      ]
    },
    {
      "cell_type": "code",
      "metadata": {
        "id": "Tiquuk3O0Ab-"
      },
      "source": [
        "#------------------------------------------------------------------------\n",
        "# 3.4.1: Concatenate String and Number\n",
        "#------------------------------------------------------------------------\n",
        "c = \"Ram\" + 10   # Error: Different data type\n",
        "print (c)\n"
      ],
      "execution_count": null,
      "outputs": []
    },
    {
      "cell_type": "markdown",
      "metadata": {
        "id": "CASyLF2Z0AcB"
      },
      "source": [
        "#### 3.4.2: Concatenate String and Number"
      ]
    },
    {
      "cell_type": "code",
      "metadata": {
        "id": "AnpOcUFq0AcC"
      },
      "source": [
        "#------------------------------------------------------------------------\n",
        "# 3.4.2: Concatenate String and Number\n",
        "#------------------------------------------------------------------------\n",
        "c = \"Ram\" + \"10\"\n",
        "print (\"c -->\",c)\n"
      ],
      "execution_count": null,
      "outputs": []
    },
    {
      "cell_type": "markdown",
      "metadata": {
        "id": "eIFYKJNH0AcF"
      },
      "source": [
        "3.4.3: Concatenate String and Number"
      ]
    },
    {
      "cell_type": "code",
      "metadata": {
        "id": "-m1c-4pB0AcG"
      },
      "source": [
        "#------------------------------------------------------------------------\n",
        "# 3.4.3: Concatenate String and Number\n",
        "#------------------------------------------------------------------------\n",
        "a = 10\n",
        "b = \"Ram\"\n",
        "c = a + b         # Error: Different data type\n",
        "print (a, \"+\", b, \"-->\", c)\n"
      ],
      "execution_count": null,
      "outputs": []
    },
    {
      "cell_type": "markdown",
      "metadata": {
        "id": "3kaGzFWu0AcK"
      },
      "source": [
        "#### 3.4.4: Concatenate String and Number"
      ]
    },
    {
      "cell_type": "code",
      "metadata": {
        "id": "J1joZLgl0AcK"
      },
      "source": [
        "#------------------------------------------------------------------------\n",
        "# 3.4.4: Concatenate String and Number\n",
        "#------------------------------------------------------------------------\n",
        "a = 10\n",
        "b = \"Ram\"\n",
        "c = str(a) + b\n",
        "\n",
        "print (a, \"+\", b, \"-->\", c)\n"
      ],
      "execution_count": null,
      "outputs": []
    },
    {
      "cell_type": "markdown",
      "metadata": {
        "id": "-vzqvOHO0AcN"
      },
      "source": [
        "#### Assingment 3.1: WAP to add three numbers, inputs from user and print result\n",
        "#### Assingment 3.2: WAP to concatinate three strings, inputs from user and print\n"
      ]
    },
    {
      "cell_type": "markdown",
      "metadata": {
        "id": "joVqzYL-0AcO"
      },
      "source": [
        "# 4: If-Else - Conditional Checking"
      ]
    },
    {
      "cell_type": "markdown",
      "metadata": {
        "id": "aJK_CeT30AcP"
      },
      "source": [
        "### 4.1: Input two numbers from user and compare them"
      ]
    },
    {
      "cell_type": "code",
      "metadata": {
        "id": "63qiU_wx0AcQ"
      },
      "source": [
        "#------------------------------------------------------------------------\n",
        "# 4.1: Input two numbers from user and compare them\n",
        "#------------------------------------------------------------------------\n",
        "a = int(input(\"Enter First No: \"))\n",
        "b = int(input(\"Enter Second No: \"))\n",
        "if  a > b:\n",
        "    print (a,\">\",b)\n",
        "else:\n",
        "    print (a,\"<\",b)\n"
      ],
      "execution_count": null,
      "outputs": []
    },
    {
      "cell_type": "code",
      "metadata": {
        "id": "ofsjGQQ40AcV"
      },
      "source": [
        "a = 10\n",
        "b = 20\n",
        "print (a == b)\n",
        "print (a != b)\n"
      ],
      "execution_count": null,
      "outputs": []
    },
    {
      "cell_type": "markdown",
      "metadata": {
        "id": "acyL3IHg0Aca"
      },
      "source": [
        "### 4.2: Check weather a number is odd or even:"
      ]
    },
    {
      "cell_type": "code",
      "metadata": {
        "id": "RY890ofG0Acb"
      },
      "source": [
        "#------------------------------------------------------------------------\n",
        "# 4.2: Check weather a number is odd or even:\n",
        "#------------------------------------------------------------------------\n",
        "#Example 1:\n",
        "n = int(input(\"Enter a Number: \"))\n",
        "if  n % 2 == 0:\n",
        "    print (n, \"is even\")\n",
        "else:\n",
        "    print (n, \"is odd\")\n"
      ],
      "execution_count": null,
      "outputs": []
    },
    {
      "cell_type": "markdown",
      "source": [
        "input(\"Enter a Number: \") prompts the user to enter a value. The text \"Enter a Number: \" is displayed to the user as a prompt.\n",
        "\n",
        "The entered value is captured as a string from the user.\n",
        "\n",
        "int(...) converts the captured string into an integer. This is achieved by converting the string representation of a number into its corresponding integer value.\n",
        "\n",
        "The resulting integer is assigned to the variable n."
      ],
      "metadata": {
        "id": "Fd-bHOOQ8IVj"
      }
    },
    {
      "cell_type": "code",
      "metadata": {
        "id": "iSPr9K-U0Ace"
      },
      "source": [
        "#Example 2:\n",
        "n = int(input(\"Enter a Number: \"))\n",
        "if  n % 2 != 0:\n",
        "    print (n,\"is odd\")\n",
        "else:\n",
        "    print (n,\"is even\")\n"
      ],
      "execution_count": null,
      "outputs": []
    },
    {
      "cell_type": "markdown",
      "metadata": {
        "id": "NA5cKfbm0Aci"
      },
      "source": [
        "### 4.3: Conditional Checking - Compare strings"
      ]
    },
    {
      "cell_type": "code",
      "metadata": {
        "id": "lyKMQRKh0Acj",
        "colab": {
          "base_uri": "https://localhost:8080/"
        },
        "outputId": "cf8eef8d-5276-47da-aedc-4715a6befe93"
      },
      "source": [
        "#------------------------------------------------------------------------\n",
        "# 4.3: Conditional Checking - Compare strings\n",
        "#------------------------------------------------------------------------\n",
        "a = input(\"Enter First String: \")\n",
        "b = input(\"Enter Second String: \")\n",
        "\n",
        "if a == b:\n",
        "    print (\"a == b\")\n",
        "elif a >= b:\n",
        "    print (\"a > b\")\n",
        "else:\n",
        "    print (\"a < b\")\n",
        "    x=70                   # in the else block\n",
        "    y=80                   # in the else block\n",
        "z=90                       # Out of the else block\n"
      ],
      "execution_count": null,
      "outputs": [
        {
          "output_type": "stream",
          "name": "stdout",
          "text": [
            "Enter First String: hello\n",
            "Enter Second String: welcome\n",
            "a < b\n"
          ]
        }
      ]
    },
    {
      "cell_type": "markdown",
      "metadata": {
        "id": "vM206T150Acl"
      },
      "source": [
        "### 4.4: Logical Operators (and, or, not)"
      ]
    },
    {
      "cell_type": "markdown",
      "metadata": {
        "id": "Dwj0K5A50Acn"
      },
      "source": [
        "#### 4.4.1: Use of and"
      ]
    },
    {
      "cell_type": "code",
      "metadata": {
        "id": "NLB5eOTH0Acn"
      },
      "source": [
        "#------------------------------------------------------------------------\n",
        "# 4.4.1: Use of and\n",
        "#------------------------------------------------------------------------\n",
        "a = 10\n",
        "b = 20\n",
        "\n",
        "if a == 10 and b == 20:\n",
        "    print (\"Accepted\")\n",
        "elif a >= b:\n",
        "    print (\"Rejected\")\n",
        "else:\n",
        "    print (\"On Hold\")\n"
      ],
      "execution_count": null,
      "outputs": []
    },
    {
      "cell_type": "markdown",
      "metadata": {
        "id": "KEMD82JL0Acq"
      },
      "source": [
        "#### 4.4.2: Use of and"
      ]
    },
    {
      "cell_type": "code",
      "metadata": {
        "id": "6uuknBSP0Acr",
        "colab": {
          "base_uri": "https://localhost:8080/"
        },
        "outputId": "3c89f120-86ff-4cc4-821e-d9bc067ef10f"
      },
      "source": [
        "#------------------------------------------------------------------------\n",
        "# 4.4.2: Use of and\n",
        "#------------------------------------------------------------------------\n",
        "a = 0\n",
        "b = 0\n",
        "print (\"a and b -->\", a and b)\n",
        "print (\"a  &  b -->\", a & b)"
      ],
      "execution_count": null,
      "outputs": [
        {
          "output_type": "stream",
          "name": "stdout",
          "text": [
            "a and b --> 0\n",
            "a  &  b --> 0\n"
          ]
        }
      ]
    },
    {
      "cell_type": "markdown",
      "source": [
        "The first line, print(\"a and b -->\", a and b), involves using the logical AND operator and to check the truth value of the expressions a and b. In Python, the logical AND operator returns the first false operand or the last operand if both are true. Since both a and b are 0 (which is considered false), the result of a and b will be 0.\n",
        "\n",
        "The second line, print(\"a & b -->\", a & b), involves using the bitwise AND operator & to perform a bitwise AND operation on the binary representations of a and b. The binary representation of 0 is 0000, and performing a bitwise AND operation:\n",
        "\n",
        "0000\n",
        "0000\n",
        "------\n",
        "0000\n",
        "\n",
        "The result of the bitwise AND operation is 0000 in binary, which is equivalent to 0 in decimal.\n",
        "\n"
      ],
      "metadata": {
        "id": "BKbPGCHg9UoP"
      }
    },
    {
      "cell_type": "markdown",
      "metadata": {
        "id": "blO9vmT20Acw"
      },
      "source": [
        "#### Re-Run the above code with a=1 and b=0 | a=0 and b=1 | a=1 and b=1"
      ]
    },
    {
      "cell_type": "markdown",
      "metadata": {
        "id": "0ihdLwOP0Acx"
      },
      "source": [
        "#### 4.4.3: Use of and"
      ]
    },
    {
      "cell_type": "code",
      "metadata": {
        "id": "p4rfeXPc0Acy",
        "colab": {
          "base_uri": "https://localhost:8080/"
        },
        "outputId": "c3120362-068d-493c-f8f5-fe9994bc14a7"
      },
      "source": [
        "#------------------------------------------------------------------------\n",
        "# 4.4.3: Use of and (Study logical and operator and bitwise and operator)\n",
        "#------------------------------------------------------------------------\n",
        "a = 20\n",
        "b = 10\n",
        "print (\"a and b -->\", a and b)\n",
        "print (\"a  &  b -->\", a & b)"
      ],
      "execution_count": null,
      "outputs": [
        {
          "output_type": "stream",
          "name": "stdout",
          "text": [
            "a and b --> 10\n",
            "a  &  b --> 0\n"
          ]
        }
      ]
    },
    {
      "cell_type": "markdown",
      "source": [
        "The first line, print(\"a and b -->\", a and b), involves using the logical AND operator and to check the truth value of the expressions a and b. In Python, the logical AND operator returns the last operand if both operands are true; otherwise, it returns the first false operand. In this case, both a and b are considered true values (since they are nonzero), so the result of a and b will be the value of b, which is 10.\n",
        "\n",
        "The second line, print(\"a & b -->\", a & b), involves using the bitwise AND operator & to perform a bitwise AND operation on the binary representations of a and b. The binary representation of 20 is 10100, and the binary representation of 10 is 01010. Performing a bitwise AND operation:\n",
        "\n",
        "10100\n",
        "01010\n",
        "------\n",
        "00000\n",
        "\n",
        "The result of the bitwise AND operation is 00000 in binary, which is equivalent to 0 in decimal."
      ],
      "metadata": {
        "id": "Adyidn8096yG"
      }
    },
    {
      "cell_type": "markdown",
      "metadata": {
        "id": "TInZXo520AdG"
      },
      "source": [
        "#### Re-Run the above code with a = 10 and b = 20 | a = 10 and b = 0 | a = 0 and b = 20 | a = 1 and b = 20"
      ]
    },
    {
      "cell_type": "markdown",
      "metadata": {
        "id": "fd5vLDuJ0AdG"
      },
      "source": [
        "#### 4.4.4: Use of or"
      ]
    },
    {
      "cell_type": "code",
      "metadata": {
        "id": "dy8Rq3Nl0AdH"
      },
      "source": [
        "#------------------------------------------------------------------------\n",
        "# 4.4.4: Use of or\n",
        "#------------------------------------------------------------------------\n",
        "a = 10\n",
        "b = 20\n",
        "\n",
        "if a == 20 or b == 20:\n",
        "    print (\"Accepted\")\n",
        "else:\n",
        "    print (\"Rejected\")\n"
      ],
      "execution_count": null,
      "outputs": []
    },
    {
      "cell_type": "markdown",
      "source": [
        "The if statement checks whether either of the conditions a == 20 or b == 20 is true using the logical OR operator or. If at least one of the conditions is true, the code block under the if statement (indicated by indentation) will be executed. In this case, the second condition b == 20 is true, so the code will execute the print(\"Accepted\") statement.\n",
        "\n",
        "If both conditions in the if statement are false, the else block is executed. This block contains the print(\"Rejected\") statement, which will be executed if neither a nor b is equal to 20.\n"
      ],
      "metadata": {
        "id": "ohkcfa8T-mSY"
      }
    },
    {
      "cell_type": "markdown",
      "metadata": {
        "id": "_3AX35AR0AdM"
      },
      "source": [
        "#### 4.4.5: Use of or"
      ]
    },
    {
      "cell_type": "code",
      "metadata": {
        "id": "oYCI2Jz70AdN",
        "colab": {
          "base_uri": "https://localhost:8080/"
        },
        "outputId": "18fc34bd-2522-4854-ebd6-aeb479dcc494"
      },
      "source": [
        "#------------------------------------------------------------------------\n",
        "# 4.4.5: Use of or\n",
        "#------------------------------------------------------------------------\n",
        "a = 0\n",
        "b = 0\n",
        "print (\"a or b -->\", a or b)\n",
        "print (\"a  | b -->\", a | b)"
      ],
      "execution_count": null,
      "outputs": [
        {
          "output_type": "stream",
          "name": "stdout",
          "text": [
            "a or b --> 0\n",
            "a  | b --> 0\n"
          ]
        }
      ]
    },
    {
      "cell_type": "markdown",
      "source": [
        "The first line, print(\"a or b -->\", a or b), involves using the logical OR operator or to check the truth value of the expressions a and b. In Python, the logical OR operator returns the first true operand or the last operand if both are false. Since both a and b are 0 (which is considered false), the result of a or b will be 0.\n",
        "\n",
        "The second line, print(\"a | b -->\", a | b), involves using the bitwise OR operator | to perform a bitwise OR operation on the binary representations of a and b. The binary representation of 0 is 0000, and performing a bitwise OR operation:\n",
        "\n",
        "0000\n",
        "0000\n",
        "------\n",
        "0000\n",
        "\n",
        "The result of the bitwise OR operation is 0000 in binary, which is equivalent to 0 in decimal."
      ],
      "metadata": {
        "id": "ljKqf7bG_KYi"
      }
    },
    {
      "cell_type": "markdown",
      "metadata": {
        "id": "aq8igH2n0AdT"
      },
      "source": [
        "#### Re-Run the above code with a=1 and b=0 | a=0 and b=1 | a=1 and b=1"
      ]
    },
    {
      "cell_type": "markdown",
      "metadata": {
        "id": "Y-4zpRU40AdV"
      },
      "source": [
        "#### 4.4.6: Use of or"
      ]
    },
    {
      "cell_type": "code",
      "metadata": {
        "id": "A1QS4bkb0AdW"
      },
      "source": [
        "#------------------------------------------------------------------------\n",
        "# 4.4.6: Use of or\n",
        "#------------------------------------------------------------------------\n",
        "a = 10\n",
        "b = 20\n",
        "print (\"a or b -->\", a or b)\n",
        "print (\"a  | b -->\", a | b)\n"
      ],
      "execution_count": null,
      "outputs": []
    },
    {
      "cell_type": "markdown",
      "source": [
        "The first line, print(\"a or b -->\", a or b), involves using the logical OR operator or to check the truth value of the expressions a and b. In Python, the logical OR operator returns the first true operand or the last operand if both are false. Since both a and b are considered true values (since they are nonzero), the result of a or b will be the value of a, which is 10.\n",
        "\n",
        "The second line, print(\"a | b -->\", a | b), involves using the bitwise OR operator | to perform a bitwise OR operation on the binary representations of a and b. The binary representation of 10 is 1010, and the binary representation of 20 is 10100. Performing a bitwise OR operation:\n",
        "\n",
        "1010\n",
        "10100\n",
        "------\n",
        "11110\n",
        "\n",
        "The result of the bitwise OR operation is 11110 in binary, which is equivalent to 30 in decimal."
      ],
      "metadata": {
        "id": "Y-5ZXDHw_9_-"
      }
    },
    {
      "cell_type": "markdown",
      "metadata": {
        "id": "Vno_IpQc0Ada"
      },
      "source": [
        "#### Re-Run the above code with a = 10 and b = 0 | a = 0 and b = 20 | a = 1 and b = 20"
      ]
    },
    {
      "cell_type": "markdown",
      "metadata": {
        "id": "A1HiEE2u0Ada"
      },
      "source": [
        "#### 4.4.7: Use of not"
      ]
    },
    {
      "cell_type": "code",
      "metadata": {
        "id": "saplo10N0Adb",
        "colab": {
          "base_uri": "https://localhost:8080/"
        },
        "outputId": "4c6682ac-2a72-479b-bb93-748845ee4951"
      },
      "source": [
        "#------------------------------------------------------------------------\n",
        "# 4.4.7: Use of not\n",
        "#------------------------------------------------------------------------\n",
        "#Example 1:\n",
        "a = True\n",
        "print(\"a     -->\", a)\n",
        "print(\"not a -->\", not a)\n"
      ],
      "execution_count": null,
      "outputs": [
        {
          "output_type": "stream",
          "name": "stdout",
          "text": [
            "a     --> True\n",
            "not a --> False\n"
          ]
        }
      ]
    },
    {
      "cell_type": "code",
      "metadata": {
        "id": "3YI7kI5a0Adg",
        "colab": {
          "base_uri": "https://localhost:8080/"
        },
        "outputId": "95e9d329-e128-4aa0-a366-2dda0bedabd9"
      },
      "source": [
        "#Example 2:\n",
        "a = 1\n",
        "print(\"a     -->\", a)\n",
        "print(\"not a -->\", not a)\n"
      ],
      "execution_count": null,
      "outputs": [
        {
          "output_type": "stream",
          "name": "stdout",
          "text": [
            "a     --> 1\n",
            "not a --> False\n"
          ]
        }
      ]
    },
    {
      "cell_type": "markdown",
      "metadata": {
        "id": "C1lEBveh0Adh"
      },
      "source": [
        "#### Re-Run the above code with a=0 | a=10 | a=20"
      ]
    },
    {
      "cell_type": "markdown",
      "metadata": {
        "id": "uZNqtd2R0Adi"
      },
      "source": [
        "### 4.5: Identity Operators (is, is not)"
      ]
    },
    {
      "cell_type": "markdown",
      "source": [
        "In Python, the is and is not operators are used to compare object identity, not just their values. The is operator returns True if both operands refer to the same object in memory, while the is not operator returns True if they do not refer to the same object."
      ],
      "metadata": {
        "id": "2UIfMmpEAYps"
      }
    },
    {
      "cell_type": "code",
      "metadata": {
        "id": "rf-yBB1Q0Adi",
        "colab": {
          "base_uri": "https://localhost:8080/"
        },
        "outputId": "133dbf6c-6a65-41a1-df25-c6804edcb738"
      },
      "source": [
        "#------------------------------------------------------------------------\n",
        "# 4.5: Identity Operators (is, is not)\n",
        "#------------------------------------------------------------------------\n",
        "a = 10\n",
        "b = 20\n",
        "print (\"a is a     -->\", a is a)\n",
        "print (\"a is not a -->\", a is not a)\n",
        "print(\"\")\n",
        "print (\"a is b     -->\", a is b)\n",
        "print (\"a is not b -->\", a is not b)\n"
      ],
      "execution_count": null,
      "outputs": [
        {
          "output_type": "stream",
          "name": "stdout",
          "text": [
            "a is a     --> True\n",
            "a is not a --> False\n",
            "\n",
            "a is b     --> False\n",
            "a is not b --> True\n"
          ]
        }
      ]
    },
    {
      "cell_type": "markdown",
      "source": [
        "In the first line, a is a checks if the object referenced by both occurrences of a is the same. Since they both refer to the same integer object (the integer 10), the result will be True.\n",
        "\n",
        "In the second line, a is not a checks if the object referenced by both occurrences of a is not the same. Since they both refer to the same integer object, the result will be False.\n",
        "\n",
        "In the fourth line, a is b checks if the object referenced by a is the same as the object referenced by b. Since a and b hold different integer values (10 and 20), they refer to different integer objects, so the result will be False.\n",
        "\n",
        "In the fifth line, a is not b checks if the object referenced by a is not the same as the object referenced by b. Since a and b refer to different integer objects, the result will be True.\n",
        "\n",
        "The is and is not operators are used for object identity comparison, not value comparison."
      ],
      "metadata": {
        "id": "2sHf_T2lAoQD"
      }
    },
    {
      "cell_type": "markdown",
      "metadata": {
        "id": "rCYQ9gxy0Adn"
      },
      "source": [
        "### 4.6: Membership Operators (in, not in)"
      ]
    },
    {
      "cell_type": "code",
      "metadata": {
        "id": "yISpMtjL0Adn",
        "colab": {
          "base_uri": "https://localhost:8080/"
        },
        "outputId": "2fe0f878-2e28-46c6-eec5-3be5da49a4f1"
      },
      "source": [
        "#------------------------------------------------------------------------\n",
        "# 4.6: Membership Operators (in, not in)\n",
        "#------------------------------------------------------------------------\n",
        "a = [10, 20, 30]\n",
        "\n",
        "print (\"10 in a     -->\",10 in a)\n",
        "print (\"40 in a     -->\",40 in a)\n",
        "\n",
        "print (\"\")\n",
        "print (\"10 not in a -->\",10 not in a)\n",
        "print (\"40 not in a -->\",40 not in a)\n"
      ],
      "execution_count": null,
      "outputs": [
        {
          "output_type": "stream",
          "name": "stdout",
          "text": [
            "10 in a     --> True\n",
            "40 in a     --> False\n",
            "\n",
            "10 not in a --> False\n",
            "40 not in a --> True\n"
          ]
        }
      ]
    },
    {
      "cell_type": "markdown",
      "metadata": {
        "id": "YFK5_QbY0Adq"
      },
      "source": [
        "#### Assingment 4.1: WAP to find max among three numbers and input from user [Hint: Try max() function]"
      ]
    },
    {
      "cell_type": "code",
      "source": [
        "# Input three numbers from the user\n",
        "num1 = float(input(\"Enter the first number: \"))\n",
        "num2 = float(input(\"Enter the second number: \"))\n",
        "num3 = float(input(\"Enter the third number: \"))\n",
        "\n",
        "# Find the maximum among the three numbers\n",
        "max_num = max(num1, num2, num3)\n",
        "\n",
        "# Print the maximum number\n",
        "print(\"The maximum number among\", num1, \",\", num2, \"and\", num3, \"is:\", max_num)\n"
      ],
      "metadata": {
        "colab": {
          "base_uri": "https://localhost:8080/"
        },
        "id": "BIfLmiVJBMZ1",
        "outputId": "17f7e6bc-a195-4086-d529-ea7a33c19dc0"
      },
      "execution_count": null,
      "outputs": [
        {
          "output_type": "stream",
          "name": "stdout",
          "text": [
            "Enter the first number: 56\n",
            "Enter the second number: 23\n",
            "Enter the third number: 78\n",
            "The maximum number among 56.0 , 23.0 and 78.0 is: 78.0\n"
          ]
        }
      ]
    },
    {
      "cell_type": "markdown",
      "source": [
        "# **Python Lists**\n",
        "\n",
        "Lists are ordered collection of data items.\n",
        "\n",
        "They store multiple items in a single variable.\n",
        "\n",
        "List items are separated by commas and enclosed within square brackets [].\n",
        "\n",
        "Lists are changeable meaning we can alter them after creation."
      ],
      "metadata": {
        "id": "71lO4UG3gbzE"
      }
    },
    {
      "cell_type": "markdown",
      "source": [
        "Lists:\n",
        "\n",
        "Mutability: Lists are mutable, meaning you can change their elements after they are created. You can add, remove, or modify items in a list.\n",
        "\n",
        "Use Cases: Lists are suitable for situations where you need to store a collection of items that might change over time, such as a to-do list, a list of user data, or any dynamic collection.\n",
        "\n",
        "Performance: Due to their mutability, lists can be slightly slower than tuples in terms of memory and performance, especially when dealing with large collections of data.\n",
        "\n",
        "Syntax: Lists are created using square brackets [...]."
      ],
      "metadata": {
        "id": "iM_CE3ffFCg6"
      }
    },
    {
      "cell_type": "code",
      "source": [
        "lst1 = [1,2,2,3,5,4,6]\n",
        "lst2 = [\"Red\", \"Green\", \"Blue\"]\n",
        "print(lst1)\n",
        "print(lst2)"
      ],
      "metadata": {
        "id": "4oSEQBRWgiSn",
        "colab": {
          "base_uri": "https://localhost:8080/"
        },
        "outputId": "f372c61f-9d99-40a7-a064-760fee26589a"
      },
      "execution_count": null,
      "outputs": [
        {
          "output_type": "stream",
          "name": "stdout",
          "text": [
            "[1, 2, 2, 3, 5, 4, 6]\n",
            "['Red', 'Green', 'Blue']\n"
          ]
        }
      ]
    },
    {
      "cell_type": "code",
      "source": [
        "details = [\"Abhijeet\", 18, \"FYBScIT\", 9.8]\n",
        "print(details)"
      ],
      "metadata": {
        "id": "DNDVCWcMgjr7"
      },
      "execution_count": null,
      "outputs": []
    },
    {
      "cell_type": "markdown",
      "source": [
        "## **List Indexes**\n",
        "Each item/element in a list has its own unique index.\n",
        "\n",
        "This index can be used to access any particular item from the list.\n",
        "\n",
        "The first item has index [0], second item has index [1], third item has index [2] and so on."
      ],
      "metadata": {
        "id": "wBkVv2r6grel"
      }
    },
    {
      "cell_type": "code",
      "source": [
        "colors = [\"Red\", \"Green\", \"Blue\", \"Yellow\", \"Green\"]\n",
        "#          [0]      [1]     [2]      [3]      [4]"
      ],
      "metadata": {
        "id": "7MsXL7cRg1kW"
      },
      "execution_count": null,
      "outputs": []
    },
    {
      "cell_type": "markdown",
      "source": [
        "# Accessing list items:\n",
        "\n",
        "\n",
        "**Positive Indexing:**\n",
        "\n",
        "As we have seen that list items have index, as such we can access items using these indexes."
      ],
      "metadata": {
        "id": "zrNXognOiGTE"
      }
    },
    {
      "cell_type": "code",
      "source": [
        "colors = [\"Red\", \"Green\", \"Blue\", \"Yellow\", \"Green\"]\n",
        "#          [0]      [1]     [2]      [3]      [4]\n",
        "print(colors[2])\n",
        "print(colors[4])\n",
        "print(colors[0])"
      ],
      "metadata": {
        "id": "FAwDfwSRiNJk",
        "colab": {
          "base_uri": "https://localhost:8080/"
        },
        "outputId": "10d607be-7290-4ecc-f2f5-688998dd8cd2"
      },
      "execution_count": null,
      "outputs": [
        {
          "output_type": "stream",
          "name": "stdout",
          "text": [
            "Blue\n",
            "Green\n",
            "Red\n"
          ]
        }
      ]
    },
    {
      "cell_type": "markdown",
      "source": [
        "**Negative Indexing:**\n",
        "\n",
        "Similar to positive indexing, negative indexing is also used to access items, but from the end of the list.\n",
        "\n",
        "The last item has index [-1], second last item has index [-2], third last item has index [-3] and so on."
      ],
      "metadata": {
        "id": "t0FWlpK3iR3C"
      }
    },
    {
      "cell_type": "code",
      "source": [
        "colors = [\"Red\", \"Green\", \"Blue\", \"Yellow\", \"Green\"]\n",
        "#          [-5]    [-4]    [-3]     [-2]      [-1]\n",
        "print(colors[-1])\n",
        "print(colors[-3])\n",
        "print(colors[-5])"
      ],
      "metadata": {
        "id": "ircMyDrmilT8",
        "colab": {
          "base_uri": "https://localhost:8080/"
        },
        "outputId": "4fe730ad-ee42-42e1-b09b-77583e818535"
      },
      "execution_count": null,
      "outputs": [
        {
          "output_type": "stream",
          "name": "stdout",
          "text": [
            "Green\n",
            "Blue\n",
            "Red\n"
          ]
        }
      ]
    },
    {
      "cell_type": "markdown",
      "source": [
        "**Check for item:**\n",
        "\n",
        "We can check if a given item is present in the list. This is done using the in keyword."
      ],
      "metadata": {
        "id": "j0Sq7f0Uic5N"
      }
    },
    {
      "cell_type": "code",
      "source": [
        "colors = [\"Red\", \"Green\", \"Blue\", \"Yellow\", \"Green\"]\n",
        "if \"Yellow\" in colors:\n",
        "    print(\"Yellow is present.\")\n",
        "else:\n",
        "    print(\"Yellow is absent.\")"
      ],
      "metadata": {
        "id": "vhGglthKioHW",
        "colab": {
          "base_uri": "https://localhost:8080/"
        },
        "outputId": "3effe750-6b76-48bd-89fb-3b47cef5887c"
      },
      "execution_count": null,
      "outputs": [
        {
          "output_type": "stream",
          "name": "stdout",
          "text": [
            "Yellow is present.\n"
          ]
        }
      ]
    },
    {
      "cell_type": "markdown",
      "source": [
        "**Range of Index:**\n",
        "\n",
        "\n",
        "You can print a range of list items by specifying where do you want to start, where do you want to end and if you want to skip elements in between the range.\n",
        "\n",
        "Syntax:\n",
        "\n",
        "List[start : end : jumpIndex]\n",
        "\n",
        "Note: jump Index is optional. We will see this in given examples."
      ],
      "metadata": {
        "id": "L2JqaSmEisMw"
      }
    },
    {
      "cell_type": "code",
      "source": [
        "\n",
        "animals = [\"cat\", \"dog\", \"bat\", \"mouse\", \"pig\", \"horse\", \"donkey\", \"goat\", \"cow\"]\n",
        "print(animals[3:7])\t#using positive indexes\n",
        "print(animals[-7:-2])\t#using negative indexes"
      ],
      "metadata": {
        "id": "Z-Gti67iiy1w",
        "colab": {
          "base_uri": "https://localhost:8080/"
        },
        "outputId": "0750425c-6742-4574-f7b1-8fa6f714f3c4"
      },
      "execution_count": null,
      "outputs": [
        {
          "output_type": "stream",
          "name": "stdout",
          "text": [
            "['mouse', 'pig', 'horse', 'donkey']\n",
            "['bat', 'mouse', 'pig', 'horse', 'donkey']\n"
          ]
        }
      ]
    },
    {
      "cell_type": "markdown",
      "source": [
        "The first print statement, print(animals[3:7]), uses positive indexes to slice the list animals. The slice [3:7] extracts elements from index 3 (inclusive) up to index 7 (exclusive). This includes elements at indexes 3, 4, 5, and 6.\n",
        "\n",
        "The second print statement, print(animals[-7:-2]), uses negative indexes to slice the list animals. The slice [-7:-2] extracts elements from the 7th element from the end (inclusive) up to the 2nd element from the end (exclusive). This includes elements at indexes -7, -6, -5, -4, and -3."
      ],
      "metadata": {
        "id": "NUijPiLQCSl0"
      }
    },
    {
      "cell_type": "markdown",
      "source": [
        "# Python Tuples\n",
        "Tuples are ordered collection of data items.\n",
        "\n",
        " They store multiple items in a single variable.\n",
        "\n",
        "  Tuple items are separated by commas and enclosed within round brackets ().\n",
        "  \n",
        "  Tuples are unchangeable meaning we can not alter them after creation."
      ],
      "metadata": {
        "id": "UQhBmys0jhJH"
      }
    },
    {
      "cell_type": "markdown",
      "source": [
        "Tuples:\n",
        "\n",
        "Immutability: Tuples are immutable, meaning their elements cannot be changed after creation. Once you define a tuple, you cannot modify its contents.\n",
        "\n",
        "Use Cases: Tuples are suitable for situations where you want to ensure that the data remains constant and unchanged, like coordinates, configuration settings, or any data that shouldn't be accidentally modified.\n",
        "\n",
        "Performance: Tuples are generally faster and use less memory compared to lists because of their immutability.\n",
        "\n",
        "Syntax: Tuples are created using parentheses (...).\n",
        "\n",
        "Use lists when you need a mutable collection of items that may change over time.\n",
        "Use tuples when you want to ensure data integrity, and the collection of items should remain constant.\n",
        "\n",
        "If you need to store a collection of related data where each item has a different meaning, dictionaries might be a better choice.\n",
        "\n",
        "Both lists and tuples have their advantages, and the choice between them depends on the specific requirements of your program.\n",
        "\n",
        "\n",
        "\n",
        "\n",
        "\n"
      ],
      "metadata": {
        "id": "13N2zDmDFRUh"
      }
    },
    {
      "cell_type": "code",
      "source": [
        "tuple1 = (1,2,2,3,5,4,6)\n",
        "tuple2 = (\"Red\", \"Green\", \"Blue\")\n",
        "print(tuple1)\n",
        "print(tuple2)"
      ],
      "metadata": {
        "id": "smDMqclUjp81",
        "colab": {
          "base_uri": "https://localhost:8080/"
        },
        "outputId": "99f05640-298d-4fc9-9563-20ad3c4fac07"
      },
      "execution_count": null,
      "outputs": [
        {
          "output_type": "stream",
          "name": "stdout",
          "text": [
            "(1, 2, 2, 3, 5, 4, 6)\n",
            "('Red', 'Green', 'Blue')\n"
          ]
        }
      ]
    },
    {
      "cell_type": "code",
      "source": [
        "details = (\"Abhijeet\", 18, \"FYBScIT\", 9.8)\n",
        "print(details)"
      ],
      "metadata": {
        "id": "sCZ5Tx9Ijtbc"
      },
      "execution_count": null,
      "outputs": []
    },
    {
      "cell_type": "markdown",
      "source": [
        "# Tuple Indexes\n",
        "\n",
        "Each item/element in a tuple has its own unique index.\n",
        "\n",
        " This index can be used to access any particular item from the tuple.\n",
        "\n",
        "  The first item has index [0], second item has index [1], third item has index [2] and so on."
      ],
      "metadata": {
        "id": "6u5KY5LEjzw7"
      }
    },
    {
      "cell_type": "code",
      "source": [
        "country = (\"Spain\", \"Italy\", \"India\", \"England\", \"Germany\")\n",
        "#            [0]      [1]      [2]       [3]        [4]"
      ],
      "metadata": {
        "id": "o441t9J8VFeK"
      },
      "execution_count": null,
      "outputs": []
    },
    {
      "cell_type": "markdown",
      "source": [
        "# Positive Indexing:\n",
        "\n",
        "As we have seen that tuple items have index, as such we can access items using these indexes."
      ],
      "metadata": {
        "id": "mmTG_iidVZeQ"
      }
    },
    {
      "cell_type": "code",
      "source": [
        "country = (\"Spain\", \"Italy\", \"India\", \"England\", \"Germany\")\n",
        "#            [0]      [1]      [2]       [3]        [4]\n",
        "print(country[1])\n",
        "print(country[3])\n",
        "print(country[0])"
      ],
      "metadata": {
        "id": "cDypy65NVfTh"
      },
      "execution_count": null,
      "outputs": []
    },
    {
      "cell_type": "markdown",
      "source": [
        "# Negative Indexing:\n",
        "\n",
        "Similar to positive indexing, negative indexing is also used to access items, but from the end of the tuple.\n",
        "\n",
        "The last item has index [-1], second last item has index [-2], third last item has index [-3] and so on."
      ],
      "metadata": {
        "id": "htQIeM_nVjQm"
      }
    },
    {
      "cell_type": "code",
      "source": [
        "country = (\"Spain\", \"Italy\", \"India\", \"England\", \"Germany\")\n",
        "#            [0]      [1]      [2]       [3]        [4]\n",
        "print(country[-1])\n",
        "print(country[-3])\n",
        "print(country[-4])"
      ],
      "metadata": {
        "id": "RhBLQwwLVpkF"
      },
      "execution_count": null,
      "outputs": []
    },
    {
      "cell_type": "markdown",
      "source": [
        "# Check for item:\n",
        "\n",
        "We can check if a given item is present in the tuple. This is done using the in keyword."
      ],
      "metadata": {
        "id": "m_-1NGoaVtgJ"
      }
    },
    {
      "cell_type": "code",
      "source": [
        "country = (\"Spain\", \"Italy\", \"India\", \"England\", \"Germany\")\n",
        "if \"Germany\" in country:\n",
        "    print(\"Germany is present.\")\n",
        "else:\n",
        "    print(\"Germany is absent.\")"
      ],
      "metadata": {
        "id": "bmcwiuIXVxqB"
      },
      "execution_count": null,
      "outputs": []
    },
    {
      "cell_type": "markdown",
      "source": [
        "# Range of Index:\n",
        "\n",
        "You can print a range of tuple items by specifying where do you want to start, where do you want to end and if you want to skip elements in between the range.\n",
        "\n",
        "\n",
        "\n",
        "Syntax:\n",
        "\n",
        "Tuple[start : end : jumpIndex]\n",
        "\n",
        "Note: jump Index is optional."
      ],
      "metadata": {
        "id": "1H7BSTV-V2iu"
      }
    },
    {
      "cell_type": "code",
      "source": [
        "animals = (\"cat\", \"dog\", \"bat\", \"mouse\", \"pig\", \"horse\", \"donkey\", \"goat\", \"cow\")\n",
        "print(animals[3:7])     #using positive indexes\n",
        "print(animals[-7:-2])   #using negative indexes"
      ],
      "metadata": {
        "id": "52HIGKjcV7Vv"
      },
      "execution_count": null,
      "outputs": []
    },
    {
      "cell_type": "markdown",
      "source": [
        "Here, we provide index of the element from where we want to start and the index of the element till which we want to print the values.\n",
        "\n",
        "Note: The element of the end index provided will not be included."
      ],
      "metadata": {
        "id": "Q_rFGmIVWLhU"
      }
    },
    {
      "cell_type": "markdown",
      "source": [
        "** printing all element from a given index till the end**"
      ],
      "metadata": {
        "id": "jAjZu4E4WTYI"
      }
    },
    {
      "cell_type": "code",
      "source": [
        "animals = (\"cat\", \"dog\", \"bat\", \"mouse\", \"pig\", \"horse\", \"donkey\", \"goat\", \"cow\")\n",
        "print(animals[4:])      #using positive indexes\n",
        "print(animals[-4:])     #using negative indexes"
      ],
      "metadata": {
        "id": "SSs1mAJ9WWTn"
      },
      "execution_count": null,
      "outputs": []
    },
    {
      "cell_type": "markdown",
      "source": [
        "When no end index is provided, the interpreter prints all the values till the end."
      ],
      "metadata": {
        "id": "w5Wwdg8iWcp0"
      }
    },
    {
      "cell_type": "markdown",
      "source": [
        "** printing all elements from start to a given index.**\n",
        "\n",
        " When no start index is provided, the interpreter prints all the values from start up to the end index provided."
      ],
      "metadata": {
        "id": "dX1MmZlWWjan"
      }
    },
    {
      "cell_type": "code",
      "source": [
        "animals = (\"cat\", \"dog\", \"bat\", \"mouse\", \"pig\", \"horse\", \"donkey\", \"goat\", \"cow\")\n",
        "print(animals[:6])      #using positive indexes\n",
        "print(animals[:-3])     #using negative indexes"
      ],
      "metadata": {
        "id": "TfZmCkteWgDP"
      },
      "execution_count": null,
      "outputs": []
    },
    {
      "cell_type": "markdown",
      "source": [
        "**print alternate values**\n",
        "\n",
        "Here, we have not provided start and index, which means all the values will be considered. But as we have provided a jump index of 2 only alternate values will be printed."
      ],
      "metadata": {
        "id": "SLQjj6DtW7kj"
      }
    },
    {
      "cell_type": "code",
      "source": [
        "animals = (\"cat\", \"dog\", \"bat\", \"mouse\", \"pig\", \"horse\", \"donkey\", \"goat\", \"cow\")\n",
        "print(animals[::2])     #using positive indexes\n",
        "print(animals[-8:-1:2]) #using negative indexes"
      ],
      "metadata": {
        "id": "-u70MetGXNBN"
      },
      "execution_count": null,
      "outputs": []
    },
    {
      "cell_type": "markdown",
      "source": [
        "**printing every 3rd consecutive withing given range**\n",
        "\n",
        "Here, jump index is 3. Hence it prints every 3rd element within given index."
      ],
      "metadata": {
        "id": "OXpUSpTlXQ-c"
      }
    },
    {
      "cell_type": "code",
      "source": [
        "animals = (\"cat\", \"dog\", \"bat\", \"mouse\", \"pig\", \"horse\", \"donkey\", \"goat\", \"cow\")\n",
        "print(animals[1:8:3])"
      ],
      "metadata": {
        "id": "UA0Ssm6OXZDV"
      },
      "execution_count": null,
      "outputs": []
    },
    {
      "cell_type": "markdown",
      "source": [
        "# Python Sets\n",
        "\n",
        "Sets are unordered collection of data items.\n",
        "\n",
        "They store multiple items in a single variable.\n",
        "\n",
        "Sets items are separated by commas and enclosed within curly brackets {}.\n",
        "\n",
        "Sets are unchangeable, meaning you cannot change items of the set once created. Sets do not contain duplicate items."
      ],
      "metadata": {
        "id": "2saorEphXsKo"
      }
    },
    {
      "cell_type": "code",
      "source": [
        "info = {\"Carla\", 19, False, 5.9, 19}\n",
        "print(info)"
      ],
      "metadata": {
        "id": "alPdfBMlYPSu"
      },
      "execution_count": null,
      "outputs": []
    },
    {
      "cell_type": "markdown",
      "source": [
        "Here we see that the items of set occur in random order and hence they cannot be accessed using index numbers. Also sets do not allow duplicate values."
      ],
      "metadata": {
        "id": "Xg-DQknxYSkf"
      }
    },
    {
      "cell_type": "markdown",
      "source": [
        "# Accessing set items:\n",
        "\n",
        "\n",
        "**Using a For loop**\n",
        "\n",
        "You can access items of set using a for loop."
      ],
      "metadata": {
        "id": "gExr_0dRYWDo"
      }
    },
    {
      "cell_type": "code",
      "source": [
        "info = {\"Carla\", 19, False, 5.9}\n",
        "for item in info:\n",
        "    print(item)"
      ],
      "metadata": {
        "id": "WTVxiLm4YcRx"
      },
      "execution_count": null,
      "outputs": []
    },
    {
      "cell_type": "markdown",
      "source": [
        "# Add/Remove Set Items\n",
        "**Add items to set:**\n",
        "\n",
        "If you want to add a single item to the set use the add() method."
      ],
      "metadata": {
        "id": "t-XvHgFjYl5V"
      }
    },
    {
      "cell_type": "code",
      "source": [
        "cities = {\"Tokyo\", \"Madrid\", \"Berlin\", \"Delhi\"}\n",
        "cities.add(\"Helsinki\")\n",
        "print(cities)"
      ],
      "metadata": {
        "id": "sr7ciF31Yqsn"
      },
      "execution_count": null,
      "outputs": []
    },
    {
      "cell_type": "markdown",
      "source": [
        "If you want to add more than one item, simply create another set and use the update() method to add it into the existing set."
      ],
      "metadata": {
        "id": "OxO8JHmMY6xr"
      }
    },
    {
      "cell_type": "code",
      "source": [
        "cities = {\"Tokyo\", \"Madrid\", \"Berlin\", \"Delhi\"}\n",
        "cities2 = {\"Helsinki\", \"Warsaw\", \"Seoul\"}\n",
        "cities.update(cities2)\n",
        "print(cities)"
      ],
      "metadata": {
        "id": "BAkAmMzgZAYf"
      },
      "execution_count": null,
      "outputs": []
    },
    {
      "cell_type": "markdown",
      "source": [
        "# Remove items from set:\n",
        "We can use remove() and discard() methods to remove items form list."
      ],
      "metadata": {
        "id": "TryMKZkJZDoR"
      }
    },
    {
      "cell_type": "code",
      "source": [
        "cities = {\"Tokyo\", \"Madrid\", \"Berlin\", \"Delhi\"}\n",
        "cities.remove(\"Tokyo\")\n",
        "print(cities)"
      ],
      "metadata": {
        "id": "CHEkMV4cZHnO"
      },
      "execution_count": null,
      "outputs": []
    },
    {
      "cell_type": "code",
      "source": [
        "cities = {\"Tokyo\", \"Madrid\", \"Berlin\", \"Delhi\"}\n",
        "cities.discard(\"Delhi\")\n",
        "print(cities)"
      ],
      "metadata": {
        "id": "4YhTwrJ4ZKbZ"
      },
      "execution_count": null,
      "outputs": []
    },
    {
      "cell_type": "markdown",
      "source": [
        "The main difference between remove and discard is that, if we try to delete an item which is not present in set, then remove() raises an error, whereas discard() does not raise any error."
      ],
      "metadata": {
        "id": "5oV9NS1HZO20"
      }
    },
    {
      "cell_type": "markdown",
      "source": [
        "**Check if item exists**\n",
        "\n",
        "You can also check if an item exists in the set or not."
      ],
      "metadata": {
        "id": "aRgsWmlhZVA6"
      }
    },
    {
      "cell_type": "code",
      "source": [
        "info = {\"Carla\", 19, False, 5.9}\n",
        "if \"Carla\" in info:\n",
        "    print(\"Carla is present.\")\n",
        "else:\n",
        "    print(\"Carla is absent.\")"
      ],
      "metadata": {
        "id": "abUlePkgZYzm"
      },
      "execution_count": null,
      "outputs": []
    },
    {
      "cell_type": "markdown",
      "source": [
        "# Join Sets\n",
        "Sets in python more or less work in the same way as sets in mathematics. We can perform operations like union and intersection on the sets just like in mathematics.\n",
        "\n",
        "\n",
        "\n",
        "**I. union() and update():**\n",
        "\n",
        "The union() and update() methods prints all items that are present in the two sets.\n",
        "\n",
        "The union() method returns a new set whereas update() method adds item into the existing set from another set."
      ],
      "metadata": {
        "id": "frjp10IhZpZf"
      }
    },
    {
      "cell_type": "code",
      "source": [
        "cities = {\"Tokyo\", \"Madrid\", \"Berlin\", \"Delhi\"}\n",
        "cities2 = {\"Tokyo\", \"Seoul\", \"Kabul\", \"Madrid\"}\n",
        "cities3 = cities.union(cities2)\n",
        "print(cities3)"
      ],
      "metadata": {
        "id": "JF6yQKKNZxFG"
      },
      "execution_count": null,
      "outputs": []
    },
    {
      "cell_type": "code",
      "source": [
        "cities = {\"Tokyo\", \"Madrid\", \"Berlin\", \"Delhi\"}\n",
        "cities2 = {\"Tokyo\", \"Seoul\", \"Kabul\", \"Madrid\"}\n",
        "cities.update(cities2)\n",
        "print(cities)"
      ],
      "metadata": {
        "id": "tSxSwnTxZ2As"
      },
      "execution_count": null,
      "outputs": []
    },
    {
      "cell_type": "markdown",
      "source": [
        "# II. intersection and intersection_update():\n",
        "The intersection() and intersection_update() methods prints only items that are similar to both the sets.\n",
        "\n",
        "The intersection() method returns a new set whereas intersection_update() method updates into the existing set from another set."
      ],
      "metadata": {
        "id": "tmqvOs65Z_YI"
      }
    },
    {
      "cell_type": "code",
      "source": [
        "cities = {\"Tokyo\", \"Madrid\", \"Berlin\", \"Delhi\"}\n",
        "cities2 = {\"Tokyo\", \"Seoul\", \"Kabul\", \"Madrid\"}\n",
        "cities3 = cities.intersection(cities2)\n",
        "print(cities3)"
      ],
      "metadata": {
        "id": "NB7KaN9CaE4q"
      },
      "execution_count": null,
      "outputs": []
    },
    {
      "cell_type": "code",
      "source": [
        "cities = {\"Tokyo\", \"Madrid\", \"Berlin\", \"Delhi\"}\n",
        "cities2 = {\"Tokyo\", \"Seoul\", \"Kabul\", \"Madrid\"}\n",
        "cities.intersection_update(cities2)\n",
        "print(cities)"
      ],
      "metadata": {
        "id": "Ja6hI8k4aHbs"
      },
      "execution_count": null,
      "outputs": []
    },
    {
      "cell_type": "markdown",
      "source": [
        "# III. symmetric_difference and symmetric_difference_update():\n",
        "The symmetric_difference() and symmetric_difference_update() methods prints only items that are not similar to both the sets.\n",
        "\n",
        " The symmetric_difference() method returns a new set whereas symmetric_difference_update() method updates into the existing set from another set."
      ],
      "metadata": {
        "id": "SyRU7PbqaKh2"
      }
    },
    {
      "cell_type": "code",
      "source": [
        "cities = {\"Tokyo\", \"Madrid\", \"Berlin\", \"Delhi\"}\n",
        "cities2 = {\"Tokyo\", \"Seoul\", \"Kabul\", \"Madrid\"}\n",
        "cities3 = cities.symmetric_difference(cities2)\n",
        "print(cities3)"
      ],
      "metadata": {
        "id": "pAy8QjoIaQAF"
      },
      "execution_count": null,
      "outputs": []
    },
    {
      "cell_type": "code",
      "source": [
        "cities = {\"Tokyo\", \"Madrid\", \"Berlin\", \"Delhi\"}\n",
        "cities2 = {\"Tokyo\", \"Seoul\", \"Kabul\", \"Madrid\"}\n",
        "cities.symmetric_difference_update(cities2)\n",
        "print(cities)"
      ],
      "metadata": {
        "id": "tvnmPofQaSQm"
      },
      "execution_count": null,
      "outputs": []
    },
    {
      "cell_type": "markdown",
      "source": [
        "# IV. difference() and difference_update():\n",
        "The difference() and difference_update() methods prints only items that are only present in the original set and not in both the sets.\n",
        "\n",
        "The difference() method returns a new set whereas difference_update() method updates into the existing set from another set."
      ],
      "metadata": {
        "id": "6dNgoR33aVR6"
      }
    },
    {
      "cell_type": "code",
      "source": [
        "cities = {\"Tokyo\", \"Madrid\", \"Berlin\", \"Delhi\"}\n",
        "cities2 = {\"Seoul\", \"Kabul\", \"Delhi\"}\n",
        "cities3 = cities.difference(cities2)\n",
        "print(cities3)"
      ],
      "metadata": {
        "id": "RRSxG2qlaZxz"
      },
      "execution_count": null,
      "outputs": []
    },
    {
      "cell_type": "code",
      "source": [
        "cities = {\"Tokyo\", \"Madrid\", \"Berlin\", \"Delhi\"}\n",
        "cities2 = {\"Seoul\", \"Kabul\", \"Delhi\"}\n",
        "print(cities.difference(cities2))"
      ],
      "metadata": {
        "id": "MdUufq9Yab7z"
      },
      "execution_count": null,
      "outputs": []
    },
    {
      "cell_type": "markdown",
      "source": [
        "# **Python Dictionaries**\n",
        "Dictionaries are ordered collection of data items.\n",
        "\n",
        "They store multiple items in a single variable.\n",
        "\n",
        "Dictionaries items are key-value pairs that are separated by commas and enclosed within curly brackets {}."
      ],
      "metadata": {
        "id": "1ykHa0gtam4Q"
      }
    },
    {
      "cell_type": "code",
      "source": [
        "info = {'name':'Karan', 'age':19, 'eligible':True}\n",
        "print(info)"
      ],
      "metadata": {
        "id": "7jU3WKtQatMo"
      },
      "execution_count": null,
      "outputs": []
    },
    {
      "cell_type": "markdown",
      "source": [
        "# Access Items\n",
        "**Accessing Dictionary items:**\n",
        "\n",
        "\n",
        "**I. Accessing single values:**\n",
        "\n",
        "Values in a dictionary can be accessed using keys. We can access dictionary values by mentioning keys either in square brackets or by using get method."
      ],
      "metadata": {
        "id": "Pe-YURpwa3kY"
      }
    },
    {
      "cell_type": "code",
      "source": [
        "info = {'name':'Karan', 'age':19, 'eligible':True}\n",
        "print(info['name'])\n",
        "print(info.get('eligible'))"
      ],
      "metadata": {
        "id": "dZoVeJ0-a_YF"
      },
      "execution_count": null,
      "outputs": []
    },
    {
      "cell_type": "markdown",
      "source": [
        "**II. Accessing multiple values:**\n",
        "\n",
        "We can print all the values in the dictionary using values() method."
      ],
      "metadata": {
        "id": "zPy-6z-wbDf5"
      }
    },
    {
      "cell_type": "code",
      "source": [
        "info = {'name':'Karan', 'age':19, 'eligible':True}\n",
        "print(info.values())"
      ],
      "metadata": {
        "id": "a0slApiqbHHK"
      },
      "execution_count": null,
      "outputs": []
    },
    {
      "cell_type": "markdown",
      "source": [
        "**III. Accessing keys:**\n",
        "\n",
        "We can print all the keys in the dictionary using keys() method."
      ],
      "metadata": {
        "id": "OefzB1JvbK6R"
      }
    },
    {
      "cell_type": "code",
      "source": [
        "info = {'name':'Karan', 'age':19, 'eligible':True}\n",
        "print(info.keys())"
      ],
      "metadata": {
        "id": "cIMA7AQIbPPE"
      },
      "execution_count": null,
      "outputs": []
    },
    {
      "cell_type": "markdown",
      "source": [
        "**IV. Accessing key-value pairs:**\n",
        "\n",
        "We can print all the key-value pairs in the dictionary using items() method."
      ],
      "metadata": {
        "id": "oM7Y61aRbToU"
      }
    },
    {
      "cell_type": "code",
      "source": [
        "info = {'name':'Karan', 'age':19, 'eligible':True}\n",
        "print(info.items())"
      ],
      "metadata": {
        "id": "KO-9C8EXbXcS"
      },
      "execution_count": null,
      "outputs": []
    },
    {
      "cell_type": "markdown",
      "source": [
        "# Add/Remove Items\n",
        "**Adding items to dictionary:**\n",
        "\n",
        "There are two ways to add items to a dictionary.\n",
        "\n",
        "I. Create a new key and assign a value to it:"
      ],
      "metadata": {
        "id": "_NQKfEIGbggY"
      }
    },
    {
      "cell_type": "code",
      "source": [
        "info = {'name':'Karan', 'age':19, 'eligible':True}\n",
        "print(info)\n",
        "info['DOB'] = 2001\n",
        "print(info)"
      ],
      "metadata": {
        "id": "ehrKtPYMblqm"
      },
      "execution_count": null,
      "outputs": []
    },
    {
      "cell_type": "markdown",
      "source": [
        "**II. Use the update() method:**\n",
        "\n",
        "The update() method updates the value of the key provided to it if the item already exists in the dictionary, else it creates a new key-value pair."
      ],
      "metadata": {
        "id": "fj449JKebonI"
      }
    },
    {
      "cell_type": "code",
      "source": [
        "info = {'name':'Karan', 'age':19, 'eligible':True}\n",
        "print(info)\n",
        "info.update({'age':20})\n",
        "info.update({'DOB':2001})\n",
        "print(info)"
      ],
      "metadata": {
        "id": "u-pMK712bsYf"
      },
      "execution_count": null,
      "outputs": []
    },
    {
      "cell_type": "markdown",
      "source": [
        "**Removing items from dictionary:**\n",
        "\n",
        "There are a few methods that we can use to remove items from dictionary.\n",
        "\n",
        "\n",
        "\n",
        "clear(): The clear() method removes all the items from the list."
      ],
      "metadata": {
        "id": "M1b8k0BGbvmO"
      }
    },
    {
      "cell_type": "code",
      "source": [
        "info = {'name':'Karan', 'age':19, 'eligible':True}\n",
        "info.clear()\n",
        "print(info)"
      ],
      "metadata": {
        "id": "G4jMNwD0bzfa"
      },
      "execution_count": null,
      "outputs": []
    },
    {
      "cell_type": "markdown",
      "source": [
        "pop(): The pop() method removes the key-value pair whose key is passed as a parameter."
      ],
      "metadata": {
        "id": "7ohUexPVb7Ur"
      }
    },
    {
      "cell_type": "code",
      "source": [
        "info = {'name':'Karan', 'age':19, 'eligible':True, 'DOB':2003}\n",
        "info.popitem()\n",
        "print(info)"
      ],
      "metadata": {
        "id": "n7IBMGfycKRH"
      },
      "execution_count": null,
      "outputs": []
    },
    {
      "cell_type": "markdown",
      "source": [
        "apart from these three methods, we can also use the del keyword to remove a dictionary item."
      ],
      "metadata": {
        "id": "0dCrNHSgcQLt"
      }
    },
    {
      "cell_type": "code",
      "source": [
        "info = {'name':'Karan', 'age':19, 'eligible':True, 'DOB':2003}\n",
        "del info['age']\n",
        "print(info)"
      ],
      "metadata": {
        "id": "r0Oj9q28cTsr"
      },
      "execution_count": null,
      "outputs": []
    },
    {
      "cell_type": "markdown",
      "source": [
        "If key is not provided, then the del keyword will delete the dictionary entirely."
      ],
      "metadata": {
        "id": "h9-ejMk3cXWy"
      }
    },
    {
      "cell_type": "code",
      "source": [
        "info = {'name':'Karan', 'age':19, 'eligible':True, 'DOB':2003}\n",
        "del info\n",
        "print(info)"
      ],
      "metadata": {
        "id": "_XbdsnFqcZk6"
      },
      "execution_count": null,
      "outputs": []
    },
    {
      "cell_type": "markdown",
      "source": [
        "# Copy Dictionaries\n",
        "We can use the copy() method to copy the contents of one dictionary into another dictionary."
      ],
      "metadata": {
        "id": "9vU6ZhfEcjzD"
      }
    },
    {
      "cell_type": "code",
      "source": [
        "info = {'name':'Karan', 'age':19, 'eligible':True, 'DOB':2003}\n",
        "newDictionary = info.copy()\n",
        "print(newDictionary)"
      ],
      "metadata": {
        "id": "W_s5QiNAcnzi"
      },
      "execution_count": null,
      "outputs": []
    },
    {
      "cell_type": "markdown",
      "source": [
        "Or we can use the dict() function to make a new dictionary with the items of original dictionary."
      ],
      "metadata": {
        "id": "3NBpjOCKcxB2"
      }
    },
    {
      "cell_type": "code",
      "source": [
        "info = {'name':'Karan', 'age':19, 'eligible':True, 'DOB':2003}\n",
        "newDictionary = dict(info)\n",
        "print(newDictionary)"
      ],
      "metadata": {
        "id": "qIWuhZ8NczKB"
      },
      "execution_count": null,
      "outputs": []
    },
    {
      "cell_type": "markdown",
      "source": [
        "# Python Modules\n",
        "Python modules are python files that contain python code that we can use within our python files ensuring simplicity and code reusability.\n",
        "\n",
        "\n",
        "\n",
        "Here are some popular python built-in modules:\n",
        "\n",
        "csv, datetime, json, math, random, sqlite3, statistics, tkinter, turtle, etc.\n",
        "\n",
        "\n",
        "\n",
        "**Example: importing math module:**"
      ],
      "metadata": {
        "id": "StnC7HJEfXq9"
      }
    },
    {
      "cell_type": "code",
      "source": [
        "import math\n",
        "\n",
        "print(\"Sin(0) =\", math.sin(0))\n",
        "print(\"Sin(30) =\", math.sin(math.pi/6))\n",
        "print(\"Sin(45) =\", math.sin(math.pi/4))\n",
        "print(\"Sin(60) =\", math.sin(math.pi/3))\n",
        "print(\"Sin(90) =\", math.sin(math.pi/2))"
      ],
      "metadata": {
        "id": "i3Jb3mgnffYY"
      },
      "execution_count": null,
      "outputs": []
    },
    {
      "cell_type": "markdown",
      "source": [
        "Apart from this we can create our own modules and use them within other python files.\n",
        "\n",
        "\n",
        "\n",
        "**A. Creating and using module:**\n",
        "\n",
        "Write code and save file with extension .py .\n",
        "\n",
        "\n",
        "**Example: creating file module.py and writing some code:**"
      ],
      "metadata": {
        "id": "XvYfhrJGfkoq"
      }
    },
    {
      "cell_type": "code",
      "source": [
        "def add(a, b):\n",
        "    return (a+b)\n",
        "\n",
        "def sub(a, b):\n",
        "    return (a-b)\n",
        "\n",
        "def mul(a, b):\n",
        "    return (a*b)\n",
        "\n",
        "def div(a, b):\n",
        "    return (a/b)"
      ],
      "metadata": {
        "id": "CQuJxvdYf1eT"
      },
      "execution_count": null,
      "outputs": []
    },
    {
      "cell_type": "markdown",
      "source": [
        "Now we can use this code in a different python file by simply using the import statement.\n",
        "\n",
        "**Example: creating file calc.py and importing module.py**"
      ],
      "metadata": {
        "id": "VAIqkuHwgB03"
      }
    },
    {
      "cell_type": "code",
      "source": [
        "import module"
      ],
      "metadata": {
        "id": "Dq8qZD1xgGa3"
      },
      "execution_count": null,
      "outputs": []
    },
    {
      "cell_type": "markdown",
      "source": [
        "Now we can write code to call the functions from module.py in calc.py"
      ],
      "metadata": {
        "id": "tIhKVK1fgObH"
      }
    },
    {
      "cell_type": "code",
      "source": [
        "import module\n",
        "\n",
        "num1 = int(input(\"Enter first number:\"))\n",
        "num2 = int(input(\"Enter second number:\"))\n",
        "\n",
        "print(\"Addition\", module.add(num1, num2))\n",
        "print(\"Subtraction\", module.sub(num1, num2))\n",
        "print(\"Multiplication\", module.mul(num1, num2))\n",
        "print(\"Division\", module.div(num1, num2))"
      ],
      "metadata": {
        "id": "qjAgQpiUgQu7"
      },
      "execution_count": null,
      "outputs": []
    },
    {
      "cell_type": "markdown",
      "source": [
        "# B. Using an alias:\n",
        "We can also use alias while importing module. This way we do not need to write the whole name of the module while calling it."
      ],
      "metadata": {
        "id": "e9xCjOAsgUi6"
      }
    },
    {
      "cell_type": "code",
      "source": [
        "import math as m\n",
        "\n",
        "print(\"Square Root of 36 :\", m.sqrt(36))\n",
        "print(\"3 to the power of 4 :\", m.pow(3,4))"
      ],
      "metadata": {
        "id": "qRhqypLogYe_"
      },
      "execution_count": null,
      "outputs": []
    },
    {
      "cell_type": "markdown",
      "source": [
        "# C. import from module:\n",
        "You can also import specific parts that you need from a module instead of importing the entire module.\n",
        "\n",
        "\n",
        "\n",
        "**Example: creating file module.py and writing some code:**"
      ],
      "metadata": {
        "id": "uDs8L6WygdcJ"
      }
    },
    {
      "cell_type": "code",
      "source": [
        "def add(a, b):\n",
        "    return (a+b)\n",
        "\n",
        "def sub(a, b):\n",
        "    return (a-b)\n",
        "\n",
        "def mul(a, b):\n",
        "    return (a*b)\n",
        "\n",
        "def div(a, b):\n",
        "    return (a/b)"
      ],
      "metadata": {
        "id": "9D2KJ28-gjMI"
      },
      "execution_count": null,
      "outputs": []
    },
    {
      "cell_type": "markdown",
      "source": [
        "Example: now we will only import add() and sub() function into our calc.py file."
      ],
      "metadata": {
        "id": "6mK-iIw8gn2_"
      }
    },
    {
      "cell_type": "code",
      "source": [
        "from module import add, sub\n",
        "\n",
        "num1 = int(input(\"Enter first number:\"))\n",
        "num2 = int(input(\"Enter second number:\"))\n",
        "\n",
        "print(\"Addition\", add(num1, num2))\n",
        "print(\"Subtraction\", sub(num1, num2))\n",
        "print(\"Multiplication\", mul(num1, num2))\n",
        "print(\"Division\", div(num1, num2))"
      ],
      "metadata": {
        "id": "bVD49Veigqil"
      },
      "execution_count": null,
      "outputs": []
    },
    {
      "cell_type": "markdown",
      "source": [
        "As we can see that, we have only imported add() and sub() functions from module.py file. Hence we get output for these functions, but we get error if we use any other functions.\n",
        "\n",
        "\n",
        "\n",
        "But what if want to import everything from a module but we do not need to prefix module name again and again?\n",
        "\n",
        "Use an asterisk(*) while importing."
      ],
      "metadata": {
        "id": "_4xRYYztgwIH"
      }
    },
    {
      "cell_type": "code",
      "source": [
        "from module import *\n",
        "\n",
        "num1 = int(input(\"Enter first number:\"))\n",
        "num2 = int(input(\"Enter second number:\"))\n",
        "\n",
        "print(\"Addition\", add(num1, num2))\n",
        "print(\"Subtraction\", sub(num1, num2))\n",
        "print(\"Multiplication\", mul(num1, num2))\n",
        "print(\"Division\", div(num1, num2))"
      ],
      "metadata": {
        "id": "ePpyZQTPgzap"
      },
      "execution_count": null,
      "outputs": []
    },
    {
      "cell_type": "markdown",
      "source": [
        "As we can see, by using an asterisk(*), we can directly call the functions from the imported module without prefixing it with module name."
      ],
      "metadata": {
        "id": "rtRGpqGKg5MS"
      }
    },
    {
      "cell_type": "markdown",
      "source": [
        "# D. dir() function:\n",
        "The dir() function lists all the function names (or variable names) in a module."
      ],
      "metadata": {
        "id": "al7ATPltg837"
      }
    },
    {
      "cell_type": "code",
      "source": [
        "from operator import mod\n",
        "import math\n",
        "\n",
        "lst1 = dir(math)\n",
        "print(lst1)"
      ],
      "metadata": {
        "id": "TgCu5wOYhAne"
      },
      "execution_count": null,
      "outputs": []
    },
    {
      "cell_type": "markdown",
      "source": [
        "# Python Packages\n",
        "Python packages are essentially folders that contain many python modules. As such, packages help us to import modules from different folders.\n",
        "\n",
        "\n",
        "\n",
        "Here are some packages provided by python,\n",
        "\n",
        "NumPy, SciPy, Pandas, Seaborn, sklearn, Matplotlib, etc."
      ],
      "metadata": {
        "id": "B-rjffVjhGWq"
      }
    },
    {
      "cell_type": "markdown",
      "source": [
        "# Python PIP\n",
        "pip stands for Package Installer for Python. It  is used to install and manage software packages in python that are not the part of standard python library.\n",
        "\n",
        "In the later versions of python (3.4 and after), the pip command is pre-installed.\n",
        "\n",
        "\n",
        "\n",
        "To Check if pip is installed in your system, type the following in command prompt:\n",
        "\n",
        "pip --version"
      ],
      "metadata": {
        "id": "1nrlmmkDhT6x"
      }
    },
    {
      "cell_type": "code",
      "source": [
        "pip --version"
      ],
      "metadata": {
        "colab": {
          "base_uri": "https://localhost:8080/"
        },
        "id": "76VKL40mhnMg",
        "outputId": "950640b4-69e3-4076-e920-7f61b94b5344"
      },
      "execution_count": null,
      "outputs": [
        {
          "output_type": "stream",
          "name": "stdout",
          "text": [
            "pip 23.1.2 from /usr/local/lib/python3.10/dist-packages/pip (python 3.10)\n"
          ]
        }
      ]
    },
    {
      "cell_type": "markdown",
      "source": [
        "If your system does not have pip installed, you can easily download it from their official website: https://pypi.org/project/pip/\n",
        "\n",
        "Now that pip has been installed in our system, we can download packages in system."
      ],
      "metadata": {
        "id": "flFkEjN_hZ5z"
      }
    },
    {
      "cell_type": "code",
      "source": [
        "pip install numpy\n"
      ],
      "metadata": {
        "colab": {
          "base_uri": "https://localhost:8080/"
        },
        "id": "veyf2WtFh-lP",
        "outputId": "c38f63f3-cf17-455a-d024-e86277e7cecc"
      },
      "execution_count": null,
      "outputs": [
        {
          "output_type": "stream",
          "name": "stdout",
          "text": [
            "Requirement already satisfied: numpy in /usr/local/lib/python3.10/dist-packages (1.23.5)\n"
          ]
        }
      ]
    },
    {
      "cell_type": "markdown",
      "source": [
        "**To list all the installed packages:**"
      ],
      "metadata": {
        "id": "-hmkLbUFiOV_"
      }
    },
    {
      "cell_type": "code",
      "source": [
        "pip list"
      ],
      "metadata": {
        "id": "4xiUemIEiKJh"
      },
      "execution_count": null,
      "outputs": []
    },
    {
      "cell_type": "markdown",
      "source": [
        "# Python File Handling\n",
        "File handling in python lets you open, read, write, append, modify files.\n",
        "\n",
        " we will assume that your text file and python code are present in the same directory.\n",
        "\n",
        "Before we perform any operation on file, we need to open the file. This is done using the open() function.\n",
        "\n",
        "\n",
        "\n",
        "Example: lets say we have a text file (someText.txt) with some content in it. The open() function creates a file object with read() method for reading the content."
      ],
      "metadata": {
        "id": "fjjYAoYyikE6"
      }
    },
    {
      "cell_type": "code",
      "source": [
        "file = open(\"sometext.txt\")\n",
        "print(file.read())"
      ],
      "metadata": {
        "colab": {
          "base_uri": "https://localhost:8080/"
        },
        "id": "9-6bK1eUi_In",
        "outputId": "86a0b8fd-8411-4d63-8d30-355f0aac6af8"
      },
      "execution_count": null,
      "outputs": [
        {
          "output_type": "stream",
          "name": "stdout",
          "text": [
            "Dr. Grewal is a top-notch dentist in tricity. He explained the procedure thoroughly and answered all my questions patiently. His expertise was evident, and I felt confident in his care. What stood out was his personalized approach, making me feel valued and understood. The follow-up after the appointment was a thoughtful gesture that showcased his commitment to patient well-being. Overall, DR GREWAL'Z DENTAL SMILE STUDIO provides a perfect blend of skill, compassion, and patient-centeredness. Highly recommended for a remarkable dental experience!\n"
          ]
        }
      ]
    },
    {
      "cell_type": "markdown",
      "source": [
        "There are various modes in which we can open files.\n",
        "\n",
        "read (r): This mode opens the file for reading only and gives an error if the file does not exist. This is the default mode if no mode is passed as a parameter.\n",
        "write (w): This mode opens the file for writing only and creates a new file if the file does not exist.\n",
        "append (a): This mode opens the file for appending only and creates a new file if the file does not exist.\n",
        "create (x): This mode creates a file and gives an error if the file already exists.\n",
        "\n",
        "\n",
        "Apart from these modes we also need to specify how the file must be handled:\n",
        "\n",
        "text (t): Used to handle text files.\n",
        "binary (b): used to handle binary files (images)."
      ],
      "metadata": {
        "id": "VNeVNgbUkLpy"
      }
    },
    {
      "cell_type": "markdown",
      "source": [
        "# Read/Write Files\n",
        "**A. Create a File:**\n",
        "\n",
        "Creating a file is primarily done using the create (x) mode."
      ],
      "metadata": {
        "id": "WZ1m7cYnkTAD"
      }
    },
    {
      "cell_type": "code",
      "source": [
        "file = open(\"Text.txt\", \"x\")"
      ],
      "metadata": {
        "id": "rWl7IbywkX3e"
      },
      "execution_count": null,
      "outputs": []
    },
    {
      "cell_type": "markdown",
      "source": [
        "**B. Write onto a File:**\n",
        "\n",
        "This method writes content onto a file."
      ],
      "metadata": {
        "id": "020XMwPakcz1"
      }
    },
    {
      "cell_type": "code",
      "source": [
        "file = open(\"Text.txt\", \"w\")\n",
        "file.write(\"This is an example of file creation.\")\n",
        "file.close"
      ],
      "metadata": {
        "id": "Ru5a9_ltkcEL"
      },
      "execution_count": null,
      "outputs": []
    },
    {
      "cell_type": "markdown",
      "source": [
        "If the file already exists with some content of its own, then this mode overwrites it."
      ],
      "metadata": {
        "id": "mJ0WLthakhde"
      }
    },
    {
      "cell_type": "markdown",
      "source": [
        "**C. Read a File:**\n",
        "This method allows us to read the contents of the file."
      ],
      "metadata": {
        "id": "TWzwfABbkvMk"
      }
    },
    {
      "cell_type": "code",
      "source": [
        "file = open(\"Text2.txt\", \"r\")\n",
        "print(file.read())\n",
        "file.close"
      ],
      "metadata": {
        "id": "cTCHJ3_Jktwp"
      },
      "execution_count": null,
      "outputs": []
    },
    {
      "cell_type": "markdown",
      "source": [
        "**D. Append a File:**\n",
        "This method appends content into a file."
      ],
      "metadata": {
        "id": "AJscJ9y7k11g"
      }
    },
    {
      "cell_type": "code",
      "source": [
        "file = open(\"newText.txt\", \"a\")\n",
        "file.write(\"This is an example of file appending.\")\n",
        "file.close"
      ],
      "metadata": {
        "id": "DaltwKsVk5Bw"
      },
      "execution_count": null,
      "outputs": []
    },
    {
      "cell_type": "markdown",
      "source": [
        "However, If the file exists already with some content in it, then the new content gets appended."
      ],
      "metadata": {
        "id": "0l30YCYtk8w-"
      }
    },
    {
      "cell_type": "code",
      "source": [
        "file = open(\"newText.txt\", \"a\")\n",
        "file.write(\" Hello, I'm appending\")\n",
        "file.close"
      ],
      "metadata": {
        "id": "joCnFKejk_p1"
      },
      "execution_count": null,
      "outputs": []
    }
  ]
}